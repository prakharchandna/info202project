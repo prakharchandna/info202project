{
 "cells": [
  {
   "cell_type": "code",
   "execution_count": 1,
   "metadata": {},
   "outputs": [
    {
     "name": "stdout",
     "output_type": "stream",
     "text": [
      "(<Element text at 0x10f9b1dd0>, {'document': '', 'type': 'EX-21.1', 'sequence': '4', 'filename': 'iac-ex211_20181231.htm', 'description': 'EXHIBIT 21.1'})\n"
     ]
    }
   ],
   "source": [
    "from edgar import Company, TXTML, Edgar\n",
    "company = Company(\"IAC/INTERACTIVECORP\", \"0000891103\")\n",
    "test21 = company.get_document_type_from_10K(\"EX-21.1\")\n",
    "text = TXTML.get_HTML_from_document(test21[0])\n",
    "#print(text)\n",
    "# dir(TXTML)\n",
    "# dir(Company)\n",
    "# dir(Edgar)\n",
    "print(text)"
   ]
  },
  {
   "cell_type": "code",
   "execution_count": null,
   "metadata": {},
   "outputs": [],
   "source": []
  },
  {
   "cell_type": "code",
   "execution_count": 2,
   "metadata": {},
   "outputs": [],
   "source": [
    "body_node = test21[0][0]"
   ]
  },
  {
   "cell_type": "code",
   "execution_count": 3,
   "metadata": {},
   "outputs": [
    {
     "data": {
      "text/plain": [
       "['__bool__',\n",
       " '__class__',\n",
       " '__contains__',\n",
       " '__copy__',\n",
       " '__deepcopy__',\n",
       " '__delattr__',\n",
       " '__delitem__',\n",
       " '__dict__',\n",
       " '__dir__',\n",
       " '__doc__',\n",
       " '__eq__',\n",
       " '__format__',\n",
       " '__ge__',\n",
       " '__getattribute__',\n",
       " '__getitem__',\n",
       " '__gt__',\n",
       " '__hash__',\n",
       " '__init__',\n",
       " '__init_subclass__',\n",
       " '__iter__',\n",
       " '__le__',\n",
       " '__len__',\n",
       " '__lt__',\n",
       " '__module__',\n",
       " '__ne__',\n",
       " '__new__',\n",
       " '__reduce__',\n",
       " '__reduce_ex__',\n",
       " '__repr__',\n",
       " '__reversed__',\n",
       " '__setattr__',\n",
       " '__setitem__',\n",
       " '__sizeof__',\n",
       " '__str__',\n",
       " '__subclasshook__',\n",
       " '__weakref__',\n",
       " '_init',\n",
       " 'addnext',\n",
       " 'addprevious',\n",
       " 'append',\n",
       " 'attrib',\n",
       " 'base',\n",
       " 'base_url',\n",
       " 'body',\n",
       " 'classes',\n",
       " 'clear',\n",
       " 'cssselect',\n",
       " 'drop_tag',\n",
       " 'drop_tree',\n",
       " 'extend',\n",
       " 'find',\n",
       " 'find_class',\n",
       " 'find_rel_links',\n",
       " 'findall',\n",
       " 'findtext',\n",
       " 'forms',\n",
       " 'get',\n",
       " 'get_element_by_id',\n",
       " 'getchildren',\n",
       " 'getiterator',\n",
       " 'getnext',\n",
       " 'getparent',\n",
       " 'getprevious',\n",
       " 'getroottree',\n",
       " 'head',\n",
       " 'index',\n",
       " 'insert',\n",
       " 'items',\n",
       " 'iter',\n",
       " 'iterancestors',\n",
       " 'iterchildren',\n",
       " 'iterdescendants',\n",
       " 'iterfind',\n",
       " 'iterlinks',\n",
       " 'itersiblings',\n",
       " 'itertext',\n",
       " 'keys',\n",
       " 'label',\n",
       " 'make_links_absolute',\n",
       " 'makeelement',\n",
       " 'nsmap',\n",
       " 'prefix',\n",
       " 'remove',\n",
       " 'replace',\n",
       " 'resolve_base_href',\n",
       " 'rewrite_links',\n",
       " 'set',\n",
       " 'sourceline',\n",
       " 'tag',\n",
       " 'tail',\n",
       " 'text',\n",
       " 'text_content',\n",
       " 'values',\n",
       " 'xpath']"
      ]
     },
     "execution_count": 3,
     "metadata": {},
     "output_type": "execute_result"
    }
   ],
   "source": [
    "#indexing this far takes us out of the header formatting\n",
    "final_body_node = body_node[0][0][0][0]\n",
    "x = []\n",
    "#there is def. a better way to do this\n",
    "for i in final_body_node.iterchildren():\n",
    "    x.append(i)\n",
    "\n",
    "dir(x[5])"
   ]
  },
  {
   "cell_type": "code",
   "execution_count": 4,
   "metadata": {},
   "outputs": [],
   "source": [
    "items = x[5].body.text_content()\n",
    "ls = items.split(\"\\xa0\")"
   ]
  },
  {
   "cell_type": "code",
   "execution_count": 5,
   "metadata": {},
   "outputs": [
    {
     "data": {
      "text/plain": [
       "'DelawareAffinity Apps LLC'"
      ]
     },
     "execution_count": 5,
     "metadata": {},
     "output_type": "execute_result"
    }
   ],
   "source": [
    "#we are loosing the space\n",
    "ls[9]"
   ]
  },
  {
   "cell_type": "code",
   "execution_count": null,
   "metadata": {},
   "outputs": [],
   "source": []
  }
 ],
 "metadata": {
  "kernelspec": {
   "display_name": "Python 3",
   "language": "python",
   "name": "python3"
  },
  "language_info": {
   "codemirror_mode": {
    "name": "ipython",
    "version": 3
   },
   "file_extension": ".py",
   "mimetype": "text/x-python",
   "name": "python",
   "nbconvert_exporter": "python",
   "pygments_lexer": "ipython3",
   "version": "3.7.4"
  }
 },
 "nbformat": 4,
 "nbformat_minor": 4
}
