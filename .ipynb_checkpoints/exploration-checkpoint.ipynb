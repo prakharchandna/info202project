{
 "cells": [
  {
   "cell_type": "code",
   "execution_count": 55,
   "metadata": {},
   "outputs": [
    {
     "name": "stdout",
     "output_type": "stream",
     "text": [
      "<edgar.company.Company object at 0x10d267320>\n",
      "[<Element document at 0x10d289458>]\n",
      "(<Element text at 0x10d273548>, {'document': '', 'type': 'EX-21', 'sequence': '2', 'filename': 'd678758dex21.htm', 'description': 'EX-21'})\n"
     ]
    }
   ],
   "source": [
    "from edgar import Company, TXTML, Edgar\n",
    "from lxml import html\n",
    "#company = Company(\"IAC/INTERACTIVECORP\", \"0000891103\")\n",
    "company = Company(\"BERKSHIRE HATHAWAY INC\", \"0001067983\")\n",
    "print(company)\n",
    "test21 = company.get_document_type_from_10K(\"EX-21\")\n",
    "print(test21)\n",
    "text = TXTML.get_HTML_from_document(test21[0])\n",
    "print(text)\n",
    "# dir(TXTML)\n",
    "# dir(Company)\n",
    "# dir(Edgar)\n",
    "#print(text)"
   ]
  },
  {
   "cell_type": "code",
   "execution_count": 56,
   "metadata": {},
   "outputs": [
    {
     "name": "stdout",
     "output_type": "stream",
     "text": [
      "{'document': '', 'type': 'EX-21', 'sequence': '2', 'filename': 'd678758dex21.htm', 'description': 'EX-21'}\n"
     ]
    }
   ],
   "source": [
    "print(text[1])"
   ]
  },
  {
   "cell_type": "code",
   "execution_count": 99,
   "metadata": {},
   "outputs": [
    {
     "name": "stdout",
     "output_type": "stream",
     "text": [
      "<class 'lxml.html.HtmlElement'>\n",
      "<class 'lxml.etree.ElementDepthFirstIterator'>\n",
      "['Company Name', 'Acme Brick Company', 'Acme Building Brands, Inc.', 'Albecca Inc.', 'AltaLink Holdings, L.P.', 'AltaLink Investments, L.P.', 'AltaLink, L.P.', 'Applied Underwriters Captive Risk Assurance Company, Inc.', 'Applied Underwriters, Inc.', 'Ben Bridge Corporation', 'Ben Bridge Jeweler, Inc.', 'Benjamin Moore\\xa0& Co.', 'Benjamin Moore\\xa0& Co., Limited', 'Benson Industries, Inc.', 'Berkshire Hathaway Assurance Corporation', 'Berkshire Hathaway Automotive Inc.', 'Berkshire Hathaway Credit Corporation', 'Berkshire Hathaway Energy Company', 'Berkshire Hathaway Finance Corporation', 'Berkshire Hathaway Homestate Insurance Company', 'Berkshire Hathaway International Insurance Limited', 'Berkshire Hathaway Life Insurance Company of Nebraska', 'Berkshire Hathaway Specialty Insurance Company', 'BH Finance LLC', 'BH Media Group, Inc.', 'BH Shoe Holdings, Inc.', 'BHE AltaLink Ltd.', 'BHE Canada Holdings Corporation', 'BHE Canada, LLC', 'BHE Renewables, LLC', 'BHE U.S. Transmission, LLC', 'BHSF, Inc.', 'BNSF Railway Company', 'Boat America Corporation', 'Borsheim Jewelry Company, Inc.', 'Brooks Sports, Inc.', 'Burlington Northern Santa Fe, LLC', 'Bushwick Metals LLC', 'Business Wire, Inc.', 'California Insurance Company', 'Campbell Hausfeld, LLC', 'Cannon-Muskegon Corporation', 'Carlton Forge Works', 'Central States Indemnity Co. of Omaha', 'Central States of Omaha Companies, Inc.', 'Cerro Flow Products LLC', 'Cerro Wire LLC', 'Charter Brokerage Holdings Corp.', 'Charter Brokerage Holdings, LLC', 'Charter Brokerage LLC', 'Chemtool Incorporated', 'Clayton Homes, Inc.', 'Company Name', 'Clayton Properties Group II, Inc.', 'Clayton Properties Group, Inc.', 'CMH Capital, Inc.', 'CMH Homes, Inc.', 'CMH Manufacturing, Inc.', 'Columbia Insurance Company', 'Continental Indemnity Company', 'Cornelius, Inc.', 'CORT Business Services Corporation', 'CTB International Corp.', 'Cubic Designs, Inc.', 'Cypress Insurance Company', 'Designed Metal Connections, Inc.', 'Detlev Louis Motorrad-Vertriebsgesellschaft GmbH', 'Duracell (China) Limited', 'Duracell Batteries BVBA', 'Duracell International Operations Sàrl', 'Duracell Manufacturing, Inc.', 'Duracell U.S. Holding LLC', 'Duracell U.S. Operations, Inc.', 'Ecowater Systems LLC', 'Empire Distributors of North Carolina, Inc.', 'Empire Distributors, Inc.', 'EXSIF Worldwide, Inc.', 'Faraday Underwriting Limited', 'FlightSafety International Inc.', 'FlightSafety Services Corporation', 'Forest River Manufacturing, LLC', 'Forest River, Inc.', 'Freedom Warehouse Corp.', 'Freo Group Pty Ltd', 'Fruit of the Loom, Inc.', 'Garan, Incorporated', 'GEICO Advantage Insurance Company', 'GEICO Casualty Company', 'GEICO Choice Insurance Company', 'GEICO Corporation', 'GEICO General Insurance Company', 'GEICO Indemnity Company', 'GEICO Secure Insurance Company', 'Gen Re Intermediaries Corporation', 'General Re Corporation', 'General Re Financial Products Corporation', 'General Re Life Corporation', 'General Reinsurance Africa Ltd.', 'General Reinsurance AG', 'General Reinsurance Australia Ltd', 'General Reinsurance Corporation', 'General Reinsurance Life Australia Ltd.', 'General Star Indemnity Company', 'General Star National Insurance Company', 'Company Name', 'Genesis Insurance Company', 'Global Cranes Pty Ltd', 'Government Employees Insurance Company', 'GRD Holdings Corporation', 'H. H. Brown Shoe Company, Inc.', 'Helzberg\\x92s Diamond Shops, Inc.', 'Henley Holdings, LLC', 'Homemakers Plaza, Inc.', 'HomeServices of America, Inc.', 'Huntington Alloys Corporation', 'IMC (Germany) Holdings GmbH', 'IMC International Metalworking Companies B.V.', 'Ingersoll Cutting Tool Company', 'Ingersoll Werkzeuge GmbH', 'International Dairy Queen, Inc.', 'Iscar Ltd.', 'Johns Manville', 'Johns Manville Corporation', 'Johns Manville Europe GmbH', 'Johns Manville GmbH', 'Johns Manville Slovakia, a.s.', 'Jordan\\x92s Furniture, Inc.', 'Justin Brands, Inc.', 'Kahn Ventures, Inc.', 'Kern River Gas Transmission Company', 'KR Holding, LLC', 'L. A. Darling Company LLC', 'Larson-Juhl US LLC', 'Lipotec, S.A.', 'LiquidPower Specialty Products Inc.', 'Lubrizol (Gibraltar) Limited Luxembourg SCS', 'Lubrizol Additive (Zhuhai) Co., Ltd.', 'Lubrizol Advanced Materials Europe BVBA', 'Lubrizol Advanced Materials International, LLC', 'Lubrizol Advanced Materials, Inc.', 'Lubrizol France SAS', 'Lubrizol Group, LLP', 'Lubrizol Holdings France SAS', 'Lubrizol Holdings Netherlands B.V.', 'Lubrizol International, Inc.', 'Lubrizol Luxembourg S.a.r.l.', 'Lubrizol Overseas Trading Corporation', 'Lubrizol Southeast Asia (Pte.) Ltd.', 'M&M Manufacturing, Inc.', 'Marmon Beverage Technologies, Inc.', 'Marmon Crane Services, Inc.', 'Marmon Distribution Services, Inc.', 'Marmon Energy Services Company', 'Marmon Engineered Components Company', 'Marmon Food, Beverage\\xa0& Water Technologies Company LLC', 'Marmon Highway Technologies LLC', 'Company Name', 'Marmon Holdings, Inc.', 'Marmon Retail\\xa0& Highway Technologies Company LLC', 'Marmon Retail Technologies Company', 'Marmon Transportation Services LLC', 'Marmon Tubing, Fittings\\xa0& Wire Products, Inc.', 'Marmon Water, Inc.', 'Marmon Wire\\xa0& Cable, Inc.', 'Marmon/Keystone LLC', 'Marquis Jet Holdings, Inc.', 'Marquis Jet Partners, Inc.', 'McLane Company, Inc.', 'McLane Foodservice, Inc.', 'MedPro Group Inc', 'Meyn Food Processing Technology B.V.', 'Meyn Holding B.V.', 'MHC Inc.', 'MidAmerican Energy Company', 'MidAmerican Funding, LLC', 'MiTek Industries, Inc.', 'MLMIC Insurance Company', 'Mount Vernon Fire Insurance Company', 'Mouser Electronics, Inc.', 'National Fire\\xa0& Marine Insurance Company', 'National Indemnity Company', 'National Indemnity Company of Mid-America', 'National Indemnity Company of the South', 'National Liability\\xa0& Fire Insurance Company', 'Nebraska Furniture Mart, Inc.', 'Nederlandse Reassurantie Groep N.V.', 'NetJets Aviation, Inc.', 'NetJets Inc.', 'NetJets Sales, Inc.', 'Nevada Power Company', 'NFM of Kansas, Inc.', 'NNGC Acquisition, LLC', 'North American Casualty Co.', 'Northern Electric plc.', 'Northern Natural Gas Company', 'Northern Powergrid (Northeast) Limited', 'Northern Powergrid (Yorkshire) plc.', 'Northern Powergrid Holdings Company', 'Northern Powergrid Limited', 'Northern Powergrid UK Holdings', 'NV Energy, Inc.', 'NVE Holdings, LLC', 'Oak River Insurance Company', 'Old United Casualty Company', 'Old United Life Insurance Company', 'Oriental Trading Company, Inc.', 'OTC Brands, Inc.', 'OTC Worldwide Holdings, Inc.', 'Company Name', 'PacifiCorp', 'PCC Airfoils LLC', 'PCC Structurals, Inc.', 'PLICO, Inc.', 'PPW Holdings LLC', 'Precision Castparts Corp.', 'Precision Steel Warehouse, Inc.', 'Primus International Inc.', 'Princeton Insurance Company', 'Procor Limited', 'Procrane Holdings, Inc.', 'Procrane Inc.', 'R. C. Willey Home Furnishings', 'Railsplitter Holdings Corporation', 'Redwood Fire and Casualty Insurance Company', 'Richline Group, Inc.', 'RSCC Wire\\xa0& Cable LLC', 'Russell Brands, LLC', 'Sager Electrical Supply Co. Inc', 'Schuller GmbH', 'Scott Fetzer Company', 'Scott Fetzer Financial Group, Inc.', 'See\\x92s Candies, Inc.', 'See\\x92s Candy Shops, Inc.', 'Shaw Contract Flooring Services, Inc.', 'Shaw Industries Group, Inc.', 'Shaw Industries, Inc.', 'Sierra Pacific Power Company', 'Söfft Shoe Company, LLC', 'Special Metals Corporation', 'SPS Technologies, LLC', 'Star Furniture Company', 'Sterling Crane LLC', 'TaeguTec Ltd.', 'The Buffalo News, Inc.', 'The Duracell Company', 'The Fechheimer Brothers Company', 'The Lubrizol Corporation', 'The Marmon Group of Canada Ltd.', 'The Medical Protective Company', 'The Pampered Chef, Ltd.', 'Titanium Metals Corporation', 'TTI, Inc.', 'Tungaloy Corporation', 'U.S. Investment Corporation', 'U.S. Underwriters Insurance Company', 'Union Tank Car Company', 'Union Underwear Company, Inc.', 'United States Liability Insurance Company', 'UTLX Company', 'Vanderbilt Mortgage and Finance, Inc.', 'Company Name', 'Vanity Fair Brands, LP', 'Warwick International Group Limited', 'Webb Wheel Products, Inc.', 'Wells Lamont LLC', 'WestGUARD Insurance Company', 'World Book/Scott Fetzer Company, Inc.', 'Worldwide Containers, Inc.', 'WPLG, Inc.', 'Wyman-Gordon Company', 'Wyman-Gordon Forgings, Inc.', 'XTRA Companies, Inc.', 'XTRA Corporation', 'XTRA Finance Corporation', 'XTRA Lease LLC', 'XTRA LLC', 'Yorkshire Electricity Group plc.', 'Yorkshire Power Group Limited', '21st Mortgage Corporation', 'Each of the named subsidiaries is not necessarily a \\x93significant subsidiary\\x94 as defined in Rule\\xa01-02(w) of Regulation S-X, and Berkshire has several additional subsidiaries not named above. The unnamed subsidiaries, considered in the aggregate as a single subsidiary, would not constitute a\\n\\x93significant subsidiary\\x94 at the end of the year covered by this report. ']\n",
      "['Domicile\\xa0or\\xa0State\\xa0of\\xa0Incorporation', 'Delaware', 'Delaware', 'Georgia', 'Canada', 'Canada', 'Canada', 'Iowa', 'Nebraska', 'Washington', 'Washington', 'New Jersey', 'Canada', 'Oregon', 'New York', 'Delaware', 'Nebraska', 'Iowa', 'Delaware', 'Nebraska', 'United\\xa0Kingdom', 'Nebraska', 'Nebraska', 'Nebraska', 'Delaware', 'Delaware', 'Canada', 'Canada', 'Delaware', 'Delaware', 'Delaware', 'Delaware', 'Delaware', 'Virginia', 'Nebraska', 'Washington', 'Delaware', 'Delaware', 'Delaware', 'California', 'Delaware', 'Michigan', 'California', 'Nebraska', 'Nebraska', 'Delaware', 'Delaware', 'Delaware', 'Delaware', 'New York', 'Delaware', 'Delaware', 'Domicile\\xa0or\\xa0State\\xa0of\\xa0Incorporation', 'Colorado', 'Tennessee', 'Delaware', 'Tennessee', 'Tennessee', 'Nebraska', 'Iowa', 'Minnesota', 'Delaware', 'Indiana', 'Wisconsin', 'California', 'Delaware', 'Germany', 'China', 'Belgium', 'Switzerland', 'Delaware', 'Delaware', 'Delaware', 'Delaware', 'Georgia', 'Georgia', 'Delaware', 'United\\xa0Kingdom', 'New York', 'Delaware', 'Indiana', 'Indiana', 'Nevada', 'Australia', 'Delaware', 'Delaware', 'Nebraska', 'Maryland', 'Nebraska', 'Delaware', 'Maryland', 'Maryland', 'Nebraska', 'New\\xa0York', 'Delaware', 'Delaware', 'Connecticut', 'South\\xa0Africa', 'Germany', 'Australia', 'Delaware', 'Australia', 'Delaware', 'Delaware', 'Domicile\\xa0or\\xa0State\\xa0of\\xa0Incorporation', 'Delaware', 'Australia', 'Maryland', 'Delaware', 'Delaware', 'Missouri', 'Delaware', 'Iowa', 'Delaware', 'Delaware', 'Germany', 'Netherlands', 'Delaware', 'Germany', 'Delaware', 'Israel', 'Delaware', 'Delaware', 'Germany', 'Germany', 'Slovakia', 'Massachusetts', 'Delaware', 'Georgia', 'Texas', 'Delaware', 'Delaware', 'Georgia', 'Spain', 'Delaware', 'Luxembourg', 'China', 'Belgium', 'Delaware', 'Delaware', 'France', 'United\\xa0Kingdom', 'France', 'Netherlands', 'Cayman\\xa0Islands', 'Luxembourg', 'Delaware', 'Singapore', 'Delaware', 'Delaware', 'Delaware', 'Delaware', 'Delaware', 'Delaware', 'Delaware', 'Delaware', 'Domicile\\xa0or\\xa0State\\xa0of\\xa0Incorporation', 'Delaware', 'Delaware', 'Delaware', 'Delaware', 'Delaware', 'Delaware', 'Delaware', 'Delaware', 'Delaware', 'Delaware', 'Texas', 'Texas', 'Indiana', 'Netherlands', 'Netherlands', 'Iowa', 'Iowa', 'Iowa', 'Delaware', 'New York', 'Pennsylvania', 'Delaware', 'Nebraska', 'Nebraska', 'Iowa', 'Iowa', 'Connecticut', 'Nebraska', 'Netherlands', 'Delaware', 'Delaware', 'Delaware', 'Nevada', 'Kansas', 'Delaware', 'Nebraska', 'United\\xa0Kingdom', 'Delaware', 'United\\xa0Kingdom', 'United\\xa0Kingdom', 'United\\xa0Kingdom', 'United\\xa0Kingdom', 'United\\xa0Kingdom', 'Nevada', 'Delaware', 'Nebraska', 'Kansas', 'Arizona', 'Delaware', 'Delaware', 'Delaware', 'Domicile\\xa0or\\xa0State\\xa0of\\xa0Incorporation', 'Oregon', 'Mexico', 'Oregon', 'Oklahoma', 'Delaware', 'Oregon', 'Illinois', 'Washington', 'New Jersey', 'Canada', 'Delaware', 'Canada', 'Utah', 'Delaware', 'Nebraska', 'Delaware', 'Delaware', 'Delaware', 'Massachusetts', 'Germany', 'Delaware', 'Delaware', 'California', 'California', 'Georgia', 'Georgia', 'Georgia', 'Nevada', 'Delaware', 'Delaware', 'Pennsylvania', 'Texas', 'Delaware', 'Korea', 'Delaware', 'Delaware', 'Delaware', 'Ohio', 'Canada', 'Indiana', 'Illinois', 'Delaware', 'Delaware', 'Japan', 'Pennsylvania', 'North\\xa0Dakota', 'Delaware', 'Delaware', 'Pennsylvania', 'Delaware', 'Tennessee', 'Domicile\\xa0or\\xa0State\\xa0of\\xa0Incorporation', 'Delaware', 'United\\xa0Kingdom', 'Delaware', 'Delaware', 'Pennsylvania', 'Nebraska', 'Delaware', 'Delaware', 'Massachusetts', 'Delaware', 'Delaware', 'Delaware', 'Delaware', 'Delaware', 'Maine', 'United\\xa0Kingdom', 'United\\xa0Kingdom', 'Delaware']\n"
     ]
    }
   ],
   "source": [
    "body_node = test21[0][0]\n",
    "print(type(body_node))\n",
    "\n",
    "tree = body_node.getchildren()\n",
    "\n",
    "\n",
    "\n",
    "#there is def. a better way to do this\n",
    "subs = []\n",
    "loc = []\n",
    "print(type(body_node.iter(\"tr\")))\n",
    "\n",
    "for i in body_node.iter(\"tr\"):\n",
    "    count = 0\n",
    "    for j in i.iter(\"p\"):\n",
    "        if count == 0 and j.text_content != \"Company Name\":\n",
    "            subs.append(j.text_content())\n",
    "        elif count == 1 and j.text_content != \"Domicile\\xa0or\\xa0State\\xa0of\\xa0Incorporation\":\n",
    "            loc.append(j.text_content())\n",
    "        count+=1    \n",
    "    \n",
    "        \n",
    "        \n",
    "print(subs)\n",
    "print(loc)\n",
    "        \n"
   ]
  },
  {
   "cell_type": "code",
   "execution_count": 93,
   "metadata": {},
   "outputs": [
    {
     "name": "stdout",
     "output_type": "stream",
     "text": [
      "[]\n"
     ]
    },
    {
     "data": {
      "text/plain": [
       "['__bool__',\n",
       " '__class__',\n",
       " '__contains__',\n",
       " '__copy__',\n",
       " '__deepcopy__',\n",
       " '__delattr__',\n",
       " '__delitem__',\n",
       " '__dict__',\n",
       " '__dir__',\n",
       " '__doc__',\n",
       " '__eq__',\n",
       " '__format__',\n",
       " '__ge__',\n",
       " '__getattribute__',\n",
       " '__getitem__',\n",
       " '__gt__',\n",
       " '__hash__',\n",
       " '__init__',\n",
       " '__init_subclass__',\n",
       " '__iter__',\n",
       " '__le__',\n",
       " '__len__',\n",
       " '__lt__',\n",
       " '__module__',\n",
       " '__ne__',\n",
       " '__new__',\n",
       " '__reduce__',\n",
       " '__reduce_ex__',\n",
       " '__repr__',\n",
       " '__reversed__',\n",
       " '__setattr__',\n",
       " '__setitem__',\n",
       " '__sizeof__',\n",
       " '__str__',\n",
       " '__subclasshook__',\n",
       " '__weakref__',\n",
       " '_init',\n",
       " 'addnext',\n",
       " 'addprevious',\n",
       " 'append',\n",
       " 'attrib',\n",
       " 'base',\n",
       " 'base_url',\n",
       " 'body',\n",
       " 'classes',\n",
       " 'clear',\n",
       " 'cssselect',\n",
       " 'drop_tag',\n",
       " 'drop_tree',\n",
       " 'extend',\n",
       " 'find',\n",
       " 'find_class',\n",
       " 'find_rel_links',\n",
       " 'findall',\n",
       " 'findtext',\n",
       " 'forms',\n",
       " 'get',\n",
       " 'get_element_by_id',\n",
       " 'getchildren',\n",
       " 'getiterator',\n",
       " 'getnext',\n",
       " 'getparent',\n",
       " 'getprevious',\n",
       " 'getroottree',\n",
       " 'head',\n",
       " 'index',\n",
       " 'insert',\n",
       " 'items',\n",
       " 'iter',\n",
       " 'iterancestors',\n",
       " 'iterchildren',\n",
       " 'iterdescendants',\n",
       " 'iterfind',\n",
       " 'iterlinks',\n",
       " 'itersiblings',\n",
       " 'itertext',\n",
       " 'keys',\n",
       " 'label',\n",
       " 'make_links_absolute',\n",
       " 'makeelement',\n",
       " 'nsmap',\n",
       " 'prefix',\n",
       " 'remove',\n",
       " 'replace',\n",
       " 'resolve_base_href',\n",
       " 'rewrite_links',\n",
       " 'set',\n",
       " 'sourceline',\n",
       " 'tag',\n",
       " 'tail',\n",
       " 'text',\n",
       " 'text_content',\n",
       " 'values',\n",
       " 'xpath']"
      ]
     },
     "execution_count": 93,
     "metadata": {},
     "output_type": "execute_result"
    }
   ],
   "source": [
    "#indexing this far takes us out of the header formatting\n",
    "final_body_node = body_node[0][0][0][0]\n",
    "print(final_body_node.findall(\"<tr>\"))\n",
    "x = []\n",
    "#there is def. a better way to do this\n",
    "for i in final_body_node.iterchildren():\n",
    "    x.append(i)\n",
    "\n",
    "dir(x[5])"
   ]
  },
  {
   "cell_type": "code",
   "execution_count": null,
   "metadata": {},
   "outputs": [],
   "source": [
    "items = x[5].body.text_content()\n",
    "ls = items.split(\"\\xa0\")"
   ]
  },
  {
   "cell_type": "code",
   "execution_count": null,
   "metadata": {},
   "outputs": [],
   "source": [
    "#we are loosing the space\n",
    "ls[9]"
   ]
  },
  {
   "cell_type": "code",
   "execution_count": null,
   "metadata": {},
   "outputs": [],
   "source": []
  }
 ],
 "metadata": {
  "kernelspec": {
   "display_name": "Python 3",
   "language": "python",
   "name": "python3"
  },
  "language_info": {
   "codemirror_mode": {
    "name": "ipython",
    "version": 3
   },
   "file_extension": ".py",
   "mimetype": "text/x-python",
   "name": "python",
   "nbconvert_exporter": "python",
   "pygments_lexer": "ipython3",
   "version": "3.6.4"
  }
 },
 "nbformat": 4,
 "nbformat_minor": 4
}
