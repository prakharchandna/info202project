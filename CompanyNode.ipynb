{
 "cells": [
  {
   "cell_type": "code",
   "execution_count": null,
   "metadata": {},
   "outputs": [],
   "source": [
    " "
   ]
  },
  {
   "cell_type": "code",
   "execution_count": 103,
   "metadata": {
    "scrolled": true
   },
   "outputs": [
    {
     "ename": "KeyError",
     "evalue": "'General Electic Inc.'",
     "output_type": "error",
     "traceback": [
      "\u001b[0;31m---------------------------------------------------------------------------\u001b[0m",
      "\u001b[0;31mKeyError\u001b[0m                                  Traceback (most recent call last)",
      "\u001b[0;32m<ipython-input-103-39b4c24f8f30>\u001b[0m in \u001b[0;36m<module>\u001b[0;34m\u001b[0m\n\u001b[1;32m     39\u001b[0m \u001b[0;31m#edgar = Edgar()\u001b[0m\u001b[0;34m\u001b[0m\u001b[0;34m\u001b[0m\u001b[0;34m\u001b[0m\u001b[0m\n\u001b[1;32m     40\u001b[0m \u001b[0;31m#possible_companies = edgar.find_company_name(\"Cisco System\")\u001b[0m\u001b[0;34m\u001b[0m\u001b[0;34m\u001b[0m\u001b[0;34m\u001b[0m\u001b[0m\n\u001b[0;32m---> 41\u001b[0;31m \u001b[0mcik\u001b[0m \u001b[0;34m=\u001b[0m \u001b[0medgar\u001b[0m\u001b[0;34m.\u001b[0m\u001b[0mget_cik_by_company_name\u001b[0m\u001b[0;34m(\u001b[0m\u001b[0;34m'General Electic Inc.'\u001b[0m\u001b[0;34m)\u001b[0m\u001b[0;34m\u001b[0m\u001b[0;34m\u001b[0m\u001b[0m\n\u001b[0m\u001b[1;32m     42\u001b[0m \u001b[0;34m\u001b[0m\u001b[0m\n\u001b[1;32m     43\u001b[0m \u001b[0mprint\u001b[0m\u001b[0;34m(\u001b[0m\u001b[0mcik\u001b[0m\u001b[0;34m)\u001b[0m\u001b[0;34m\u001b[0m\u001b[0;34m\u001b[0m\u001b[0m\n",
      "\u001b[0;32m~/Mims/mims/lib/python3.7/site-packages/edgar/edgar.py\u001b[0m in \u001b[0;36mget_cik_by_company_name\u001b[0;34m(self, name)\u001b[0m\n\u001b[1;32m     20\u001b[0m \u001b[0;34m\u001b[0m\u001b[0m\n\u001b[1;32m     21\u001b[0m     \u001b[0;32mdef\u001b[0m \u001b[0mget_cik_by_company_name\u001b[0m\u001b[0;34m(\u001b[0m\u001b[0mself\u001b[0m\u001b[0;34m,\u001b[0m \u001b[0mname\u001b[0m\u001b[0;34m)\u001b[0m\u001b[0;34m:\u001b[0m\u001b[0;34m\u001b[0m\u001b[0;34m\u001b[0m\u001b[0m\n\u001b[0;32m---> 22\u001b[0;31m         \u001b[0;32mreturn\u001b[0m \u001b[0mself\u001b[0m\u001b[0;34m.\u001b[0m\u001b[0mall_companies_dict\u001b[0m\u001b[0;34m[\u001b[0m\u001b[0mname\u001b[0m\u001b[0;34m]\u001b[0m\u001b[0;34m\u001b[0m\u001b[0;34m\u001b[0m\u001b[0m\n\u001b[0m\u001b[1;32m     23\u001b[0m \u001b[0;34m\u001b[0m\u001b[0m\n\u001b[1;32m     24\u001b[0m     \u001b[0;32mdef\u001b[0m \u001b[0mget_company_name_by_cik\u001b[0m\u001b[0;34m(\u001b[0m\u001b[0mself\u001b[0m\u001b[0;34m,\u001b[0m \u001b[0mcik\u001b[0m\u001b[0;34m)\u001b[0m\u001b[0;34m:\u001b[0m\u001b[0;34m\u001b[0m\u001b[0;34m\u001b[0m\u001b[0m\n",
      "\u001b[0;31mKeyError\u001b[0m: 'General Electic Inc.'"
     ]
    }
   ],
   "source": [
    "from edgar import Company, TXTML, Edgar\n",
    "\n",
    "\n",
    "\n",
    "#https://www.sec.gov/Archives/edgar/data/891103/000089110319000006/0000891103-19-000006-index.htm\n",
    "\n",
    "\n",
    "company = Company(\"IAC/INTERACTIVECORP\", \"0000891103\")\n",
    "#doc = company.get_10K()\n",
    "#doc_text = TXTML.get_HTML_from_document(doc)\n",
    "#print(doc_text)\n",
    "#text = TXTML.parse_full_10K(doc)\n",
    "\n",
    "text = company._get_filings_url()\n",
    "#https://www.sec.gov/cgi-bin/browse-edgar?action=getcompany&CIK=0000891103&type=&dateb=&owner=include&count=100\n",
    "\n",
    "\n",
    "\n",
    "#text = company._group_document_type()\n",
    "test21 = company.get_document_type_from_10K(\"EX-21.1\")\n",
    "#text = test21[0]._get_filings_url()\n",
    "#print(test21)\n",
    "#dir(TXTML)\n",
    "#text = TXTML.get_document_type(test21[0])\n",
    "\n",
    "\n",
    "text = TXTML.get_HTML_from_document(test21[0])\n",
    "# iac-ex211_20181231.htm\n",
    "\n",
    "\n",
    "#text = TXTML.parse_full_10K(test21[0])\n",
    "\n",
    "#print(test21)\n",
    "#print(text)\n",
    "#dir(TXTML)\n",
    "#dir(Company)\n",
    "dir(Edgar)\n",
    "\n",
    "#edgar = Edgar()\n",
    "#possible_companies = edgar.find_company_name(\"Cisco System\")\n",
    "cik = edgar.get_cik_by_company_name('General Electic Inc.')\n",
    "\n",
    "print(cik)"
   ]
  },
  {
   "cell_type": "code",
   "execution_count": 108,
   "metadata": {},
   "outputs": [
    {
     "ename": "KeyError",
     "evalue": "'General Electric Co'",
     "output_type": "error",
     "traceback": [
      "\u001b[0;31m---------------------------------------------------------------------------\u001b[0m",
      "\u001b[0;31mKeyError\u001b[0m                                  Traceback (most recent call last)",
      "\u001b[0;32m<ipython-input-108-81499496ba42>\u001b[0m in \u001b[0;36m<module>\u001b[0;34m\u001b[0m\n\u001b[0;32m----> 1\u001b[0;31m \u001b[0mcik\u001b[0m \u001b[0;34m=\u001b[0m \u001b[0medgar\u001b[0m\u001b[0;34m.\u001b[0m\u001b[0mget_cik_by_company_name\u001b[0m\u001b[0;34m(\u001b[0m\u001b[0;34m'General Electric Co'\u001b[0m\u001b[0;34m)\u001b[0m\u001b[0;34m\u001b[0m\u001b[0;34m\u001b[0m\u001b[0m\n\u001b[0m\u001b[1;32m      2\u001b[0m \u001b[0mprint\u001b[0m\u001b[0;34m(\u001b[0m\u001b[0mcik\u001b[0m\u001b[0;34m)\u001b[0m\u001b[0;34m\u001b[0m\u001b[0;34m\u001b[0m\u001b[0m\n",
      "\u001b[0;32m~/Mims/mims/lib/python3.7/site-packages/edgar/edgar.py\u001b[0m in \u001b[0;36mget_cik_by_company_name\u001b[0;34m(self, name)\u001b[0m\n\u001b[1;32m     20\u001b[0m \u001b[0;34m\u001b[0m\u001b[0m\n\u001b[1;32m     21\u001b[0m     \u001b[0;32mdef\u001b[0m \u001b[0mget_cik_by_company_name\u001b[0m\u001b[0;34m(\u001b[0m\u001b[0mself\u001b[0m\u001b[0;34m,\u001b[0m \u001b[0mname\u001b[0m\u001b[0;34m)\u001b[0m\u001b[0;34m:\u001b[0m\u001b[0;34m\u001b[0m\u001b[0;34m\u001b[0m\u001b[0m\n\u001b[0;32m---> 22\u001b[0;31m         \u001b[0;32mreturn\u001b[0m \u001b[0mself\u001b[0m\u001b[0;34m.\u001b[0m\u001b[0mall_companies_dict\u001b[0m\u001b[0;34m[\u001b[0m\u001b[0mname\u001b[0m\u001b[0;34m]\u001b[0m\u001b[0;34m\u001b[0m\u001b[0;34m\u001b[0m\u001b[0m\n\u001b[0m\u001b[1;32m     23\u001b[0m \u001b[0;34m\u001b[0m\u001b[0m\n\u001b[1;32m     24\u001b[0m     \u001b[0;32mdef\u001b[0m \u001b[0mget_company_name_by_cik\u001b[0m\u001b[0;34m(\u001b[0m\u001b[0mself\u001b[0m\u001b[0;34m,\u001b[0m \u001b[0mcik\u001b[0m\u001b[0;34m)\u001b[0m\u001b[0;34m:\u001b[0m\u001b[0;34m\u001b[0m\u001b[0;34m\u001b[0m\u001b[0m\n",
      "\u001b[0;31mKeyError\u001b[0m: 'General Electric Co'"
     ]
    }
   ],
   "source": [
    "cik = edgar.get_cik_by_company_name('General Electric Co')\n",
    "print(cik)"
   ]
  },
  {
   "cell_type": "code",
   "execution_count": null,
   "metadata": {},
   "outputs": [],
   "source": [
    "import edgar\n",
    "import inspect\n",
    "import random\n",
    "dir(edgar)\n",
    "company2 = edgar.Company(\"IAC/INTERACTIVECORP\", \"0000891103\")"
   ]
  },
  {
   "cell_type": "code",
   "execution_count": null,
   "metadata": {},
   "outputs": [],
   "source": [
    "states = [\"Alabama\",\"Alaska\",\"Arizona\",\"Arkansas\",\"California\",\"Colorado\",\n",
    "  \"Connecticut\",\"Delaware\",\"Florida\",\"Georgia\",\"Hawaii\",\"Idaho\",\"Illinois\",\n",
    "  \"Indiana\",\"Iowa\",\"Kansas\",\"Kentucky\",\"Louisiana\",\"Maine\",\"Maryland\",\n",
    "  \"Massachusetts\",\"Michigan\",\"Minnesota\",\"Mississippi\",\"Missouri\",\"Montana\",\n",
    "  \"Nebraska\",\"Nevada\",\"New Hampshire\",\"New Jersey\",\"New Mexico\",\"New York\",\n",
    "  \"North Carolina\",\"North Dakota\",\"Ohio\",\"Oklahoma\",\"Oregon\",\"Pennsylvania\",\n",
    "  \"Rhode Island\",\"South Carolina\",\"South Dakota\",\"Tennessee\",\"Texas\",\"Utah\",\n",
    "  \"Vermont\",\"Virginia\",\"Washington\",\"West Virginia\",\"Wisconsin\",\"Wyoming\"]\n",
    "\n",
    "class CompanyNode:\n",
    "    def __init__(self, name, location, parent = None):\n",
    "        self.name = name\n",
    "        \n",
    "        #tries to find CIK on SEC website\n",
    "        try:\n",
    "            self.cik = edgar.get_cik_by_company_name(self.name)\n",
    "            self.SEC = True\n",
    "        except:\n",
    "            self.cik = Noneself.sic = None        \n",
    "        \n",
    "        self.location = location\n",
    "\n",
    "        self.corp_type = eval_corp_type()\n",
    "        \n",
    "        self.parent = parent\n",
    "        self.child = {}\n",
    "        \n",
    "        \n",
    "        \n",
    "        self.SEC = eval_SEC() #indicates whether the company can be found on SEC\n",
    "        \n",
    "\n",
    "    def eval_corp_type(self):\n",
    "        corp_check = self.name.split()\n",
    "        print(corp_check[-1])\n",
    "        return corp_check[-1]\n",
    "    \n",
    "    def set_SIC(self, SIC):\n",
    "        self.sic = SIC\n",
    "    \n",
    "    def eval_SEC(self):\n",
    "        if self.location in states and cik != None:\n",
    "            self.SEC = True\n",
    "        else:\n",
    "            self.SEC = False\n",
    "    \n",
    "    def set_child"
   ]
  },
  {
   "cell_type": "markdown",
   "metadata": {},
   "source": [
    "# Process\n",
    "\n",
    "\n",
    "Node Requirements:\n",
    "- Name(manual or from list)\n",
    "- CIK(get_cik_by_company_name)\n",
    "\n",
    "Use Company and CIK to set company:\n",
    "- EX 21.1 Document\n",
    "- Use URL/Parse 21.1\n",
    "- Get 10K (Optional)\n",
    "\n",
    "Read Ex 21.1\n",
    "- Get list of child companies\n",
    "    - Get Name\n",
    "    - Get Location\n",
    "\n",
    "- SIC()\n",
    "- Corp Type (Found through subsidiary document of parent)\n",
    "- Location(Found through subsidiary document of parent)\n",
    "- Parent (Found through subsidiary document of parent)\n",
    "- Child (found through subsidiary document of self)\n",
    "\n",
    "## Search Company Name in Edgar\n",
    "\n",
    "## "
   ]
  },
  {
   "cell_type": "code",
   "execution_count": null,
   "metadata": {},
   "outputs": [],
   "source": []
  }
 ],
 "metadata": {
  "kernelspec": {
   "display_name": "Python 3",
   "language": "python",
   "name": "python3"
  },
  "language_info": {
   "codemirror_mode": {
    "name": "ipython",
    "version": 3
   },
   "file_extension": ".py",
   "mimetype": "text/x-python",
   "name": "python",
   "nbconvert_exporter": "python",
   "pygments_lexer": "ipython3",
   "version": "3.7.4"
  }
 },
 "nbformat": 4,
 "nbformat_minor": 2
}
