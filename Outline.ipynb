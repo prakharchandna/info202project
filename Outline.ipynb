{
 "cells": [
  {
   "cell_type": "code",
   "execution_count": null,
   "metadata": {},
   "outputs": [],
   "source": [
    "#shell of notebook"
   ]
  },
  {
   "cell_type": "code",
   "execution_count": 2,
   "metadata": {},
   "outputs": [],
   "source": [
    "# rachel will start\n",
    "def display_drop_down(options_list):\n",
    "    \"\"\"\n",
    "    displays a drop down for the items in options list, collects choice from the user and returns a string with\n",
    "    their choice\n",
    "    \n",
    "    Requirements: Sector_group_name, Sector_name, Industry_name\n",
    "    \"\"\"\n",
    "    return \"some_company\""
   ]
  },
  {
   "cell_type": "code",
   "execution_count": 3,
   "metadata": {},
   "outputs": [],
   "source": [
    "#rachel with start\n",
    "def display_company_report(clean_company_name):\n",
    "    \"\"\"\n",
    "    given a clean company name, show a display report of the company \n",
    "    \n",
    "    SIC \n",
    "    LOC\n",
    "    F/D % percent of companies that are abroad vs. domestic\n",
    "    \n",
    "    \n",
    "    Requirements: Corpwatch Company data, company relationship data\n",
    "\n",
    "    \"\"\"\n",
    "    display_breakdown(clean_company_name)\n",
    "    display_hierarchy(clean_company_name)\n",
    "    \n",
    "    company = input('')\n",
    "    display_company_report(company)\n",
    "    #display something\n",
    "    #return the report"
   ]
  },
  {
   "cell_type": "code",
   "execution_count": 7,
   "metadata": {},
   "outputs": [],
   "source": [
    "#prakar\n",
    "def search_by_sector(sector_name):\n",
    "    \"\"\"\n",
    "    returns list of a parent companies in that sub sector, ranked by subsidiaries\n",
    "    \"\"\"\n",
    "    return []"
   ]
  },
  {
   "cell_type": "code",
   "execution_count": null,
   "metadata": {},
   "outputs": [],
   "source": [
    "def display_breakdown(clean_company_name):\n",
    "    '''\n",
    "    uses logic to determine if it should display (e.g. is it a parent)\n",
    "    \n",
    "    if so, shows Pie chart of sector breakdown\n",
    "    \n",
    "    shows list of sectors they are in\n",
    "    '''\n",
    "    return []"
   ]
  },
  {
   "cell_type": "code",
   "execution_count": null,
   "metadata": {},
   "outputs": [],
   "source": [
    "def display_hierarchy(clean_company_name):\n",
    "    '''\n",
    "    uses logic to determine if it should display (e.g. does it have at least a parent or a child)\n",
    "    \n",
    "    if so, show table of parent (if applicable)\n",
    "    show table of children (if applicable)\n",
    "    '''\n",
    "    return []"
   ]
  },
  {
   "cell_type": "code",
   "execution_count": 10,
   "metadata": {},
   "outputs": [],
   "source": [
    "# Max is going to write this to start with\n",
    "\n",
    "\n",
    "def company_suggestions(company_name):\n",
    "    '''\n",
    "    if name isn't clean, then search name+wildcard to return list of companies, ranked by number of children.\n",
    "    can remove\n",
    "    '''\n",
    "    company = input('')\n",
    "    display_company_report(company) #navigates to company report if selected\n",
    "\n",
    "    return [] #ranked list of company suggestions"
   ]
  },
  {
   "cell_type": "code",
   "execution_count": 9,
   "metadata": {},
   "outputs": [
    {
     "name": "stdout",
     "output_type": "stream",
     "text": [
      "search by company or sector\n"
     ]
    }
   ],
   "source": [
    "result = "
   ]
  },
  {
   "cell_type": "code",
   "execution_count": 6,
   "metadata": {},
   "outputs": [
    {
     "ename": "SyntaxError",
     "evalue": "invalid syntax (<ipython-input-6-54b4f85b485d>, line 3)",
     "output_type": "error",
     "traceback": [
      "\u001b[0;36m  File \u001b[0;32m\"<ipython-input-6-54b4f85b485d>\"\u001b[0;36m, line \u001b[0;32m3\u001b[0m\n\u001b[0;31m    sector_compnay_list = search_by_sector(sector_name):\u001b[0m\n\u001b[0m                                                       ^\u001b[0m\n\u001b[0;31mSyntaxError\u001b[0m\u001b[0;31m:\u001b[0m invalid syntax\n"
     ]
    }
   ],
   "source": [
    "if result == 'sector':\n",
    "    #show sector group\n",
    "    \n",
    "    sector_compnay_list = search_by_sector(sector_name): #returns all companies in sector\n",
    "    company = display_dropdown(sector_compnay_list) #displays companies with subsidiaries \n",
    "    display_company_report(company) #navigates to company report if selected\n",
    "    #show sector name\n",
    "    #show industry name\n",
    "    "
   ]
  },
  {
   "cell_type": "code",
   "execution_count": null,
   "metadata": {},
   "outputs": [],
   "source": []
  }
 ],
 "metadata": {
  "kernelspec": {
   "display_name": "Python 3",
   "language": "python",
   "name": "python3"
  },
  "language_info": {
   "codemirror_mode": {
    "name": "ipython",
    "version": 3
   },
   "file_extension": ".py",
   "mimetype": "text/x-python",
   "name": "python",
   "nbconvert_exporter": "python",
   "pygments_lexer": "ipython3",
   "version": "3.7.4"
  }
 },
 "nbformat": 4,
 "nbformat_minor": 4
}
