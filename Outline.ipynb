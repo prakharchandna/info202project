{
 "cells": [
  {
   "cell_type": "code",
   "execution_count": 5,
   "metadata": {},
   "outputs": [],
   "source": [
    "#shell of notebook\n",
    "\n",
    "#Company Report Imports\n",
    "import pandas as pd\n",
    "\n",
    "import plotly.graph_objects as go\n",
    "\n",
    "import networkx as nx\n",
    "import ast\n",
    "%matplotlib inline  \n",
    "#from networkx.drawing.nx_agraph import write_dot, graphviz_layout\n",
    "import matplotlib.pyplot as plt\n",
    "\n",
    "#Company Suggestions Imports\n",
    "import re\n",
    "import sys\n",
    "from IPython.display import display, HTML\n",
    "\n",
    "#Display Dropdown Imports\n",
    "import ipywidgets as widgets\n",
    "from IPython.display import display\n",
    "import functools\n",
    "\n",
    "#Display Button Imports:\n",
    "import asyncio\n",
    "\n"
   ]
  },
  {
   "cell_type": "markdown",
   "metadata": {},
   "source": [
    "# 0. Core/Background Functions\n",
    "\n",
    "### Display Dropdown"
   ]
  },
  {
   "cell_type": "code",
   "execution_count": null,
   "metadata": {},
   "outputs": [],
   "source": [
    "def display_drop_down(df_column):\n",
    "    \"\"\"\n",
    "    Passes in a Dataframe column to set the dropdown bar. Use in tandem with button code\n",
    "    to create clickable button to direct users to different functions\n",
    "    \"\"\"\n",
    "    dd = widgets.Dropdown(options= \n",
    "          df_column.unique(),\n",
    "    value=df_column.iloc[0],\n",
    "    description='Type:',\n",
    "    disabled=False,\n",
    "    )\n",
    "\n",
    "    return dd\n",
    "\n",
    "dd = display_drop_down(sic_sectors_codes['sector_group_name']) #set this to the column you like to define the code \n"
   ]
  },
  {
   "cell_type": "markdown",
   "metadata": {},
   "source": [
    "### Button Code"
   ]
  },
  {
   "cell_type": "code",
   "execution_count": null,
   "metadata": {},
   "outputs": [],
   "source": [
    "slider = IntSlider()\n",
    "\n",
    "async def f():\n",
    "    for i in range(10):\n",
    "        print('did work %s'%i)\n",
    "        x = await wait_for_change(slider, 'value')\n",
    "        print('async function continued with value %s'%x)\n",
    "asyncio.ensure_future(f())\n",
    "\n",
    "slider"
   ]
  },
  {
   "cell_type": "markdown",
   "metadata": {},
   "source": [
    "### Weighted Results"
   ]
  },
  {
   "cell_type": "code",
   "execution_count": null,
   "metadata": {},
   "outputs": [],
   "source": [
    "#### weighting for search results\n",
    "\n",
    "def weighted_result(x, sector):\n",
    "    #use zone scoring to compute weight of query result    \n",
    "    child_weight = .5\n",
    "    sector_weight = .3\n",
    "    company_weight = .2\n",
    "    \n",
    "    #returns positive if there are any children (favors multinational companies)\n",
    "    child = (0,1)[x['num_children'] > 0]\n",
    "    #returns positive if the company is an INC or CORP datatype (More likely to be a US multinational)\n",
    "    company = (0,1)[x['company_type'] == 'INC' or x['company_type'] == 'CORP' or x['company_type'] == NaN]\n",
    "    \n",
    "    #attempts to put sector(if given) into related companies (replace with dropdown if possible)\n",
    "    try:\n",
    "        sect = (0,1)[sector.lower() in x['sector_name'].lower()]\n",
    "    except:\n",
    "        sect = 0\n",
    "\n",
    "    return child_weight * child + sector_weight * sect + company_weight * company\n"
   ]
  },
  {
   "cell_type": "markdown",
   "metadata": {},
   "source": [
    "### Unique Non-Nan (Need to define Location first)+  List Parse"
   ]
  },
  {
   "cell_type": "code",
   "execution_count": null,
   "metadata": {},
   "outputs": [],
   "source": [
    "def unique_non_nan(elem):\n",
    "    return [a for a in list(pd.unique(elem))]\n",
    "#maybe shouldn't just take the first one \n",
    "location_filtered = location[location['max_year'] > 2018]\n",
    "location_aggregations = {'city': \"first\",\n",
    "                         'state': \"first\",\n",
    "                         'country_code':  \"first\"}\n",
    "location_agg = location_filtered.groupby('cw_id').agg(location_aggregations)\n",
    "#location_df = location_filtered[['cw_id', 'city', 'state', 'country_code']]"
   ]
  },
  {
   "cell_type": "code",
   "execution_count": 2,
   "metadata": {},
   "outputs": [],
   "source": [
    "#required to read the list column from a file \n",
    "def list_parse(s):\n",
    "    strings = str(s).strip(\"[]\").split(\",\")\n",
    "    ls = []\n",
    "    for i in strings:\n",
    "        try:\n",
    "            ls.append(int(float(i.strip())))\n",
    "        except (ValueError):\n",
    "            \"\"\n",
    "    return ls"
   ]
  },
  {
   "cell_type": "markdown",
   "metadata": {},
   "source": [
    "# A. Start Page\n",
    "\n",
    "Welcome to the Multinational \n",
    "\n",
    "### Workflow\n",
    "1. Users choose what kind of search they want\n",
    "\n",
    "\n",
    "### Choices\n",
    "\n",
    "- Choose a Company (Go to -> __C. Company Query__)\n",
    "\n",
    "- Choose a Sector (Go to -> __B. Search by Sector__)\n",
    "\n",
    "- (Optional) Choose from top multinational companies\n",
    "\n",
    "\n",
    "##### Disclaimer\n",
    "Only includes US companies"
   ]
  },
  {
   "cell_type": "code",
   "execution_count": 6,
   "metadata": {},
   "outputs": [],
   "source": [
    "def AStart():\n",
    "    '''Display start page + options'''\n",
    "    #B = Sector\n",
    "    #C = Company\n",
    "    while True:\n",
    "        choice = input(\"Please select an option: \")\n",
    "        if choice == \"B\":\n",
    "            BSector()\n",
    "        elif choice == \"C\":\n",
    "            CCompany()\n",
    "        else:\n",
    "            print(\"sorry I didn't get that, please try again\")"
   ]
  },
  {
   "cell_type": "markdown",
   "metadata": {},
   "source": [
    "## B. Search by Sector\n",
    "\n",
    "### Workflow\n",
    "1. Users select Sector Group (dropdown)\n",
    "1b. Users select Sector (dropdown)\n",
    "1c. Users select Industry (dropdown)\n",
    "\n",
    "2. Top Players Results displayed\n",
    "3. Users select company to view report (dropdown) (Go to -> __D. Company Report Page__)\n",
    "3b. Users go back (Go to -> __A. Start Page__)\n",
    "\n",
    "### Features\n",
    "- Dropdown Widgets: Sector selection\n",
    "- Top Players Results\n",
    "    - Groupby: Industries\n",
    "    - Groupby: Top Parent IDs\n",
    "- Dropdown Widgets: Company selection\n",
    "\n"
   ]
  },
  {
   "cell_type": "code",
   "execution_count": 7,
   "metadata": {},
   "outputs": [],
   "source": [
    "def BSector():\n",
    "    '''display sectors options'''\n",
    "    display_drop_down(Sector_Groups)\n",
    "    display_drop_down(Sectors)\n",
    "    display_drop_down(Industries)\n",
    "    SIC_choice = \"Sector/industry\"\n",
    "    \n",
    "    search_by_sector(SIC_choice)\n",
    "    #displays top 25 results\n",
    "    \n",
    "    company_choice = display_drop_down(Companies)\n",
    "    display_company_report = company_choice\n",
    "\n",
    "    "
   ]
  },
  {
   "cell_type": "code",
   "execution_count": 8,
   "metadata": {},
   "outputs": [],
   "source": [
    "# rachel will start\n",
    "def display_drop_down(options_list):\n",
    "    \"\"\"\n",
    "    displays a drop down for the items in options list, collects choice from the user and returns a string with\n",
    "    their choice\n",
    "    \n",
    "    Requirements: Sector_group_name, Sector_name, Industry_name\n",
    "    \"\"\"\n",
    "    choice = \"Berkshire Hathway\"\n",
    "    return choice"
   ]
  },
  {
   "cell_type": "code",
   "execution_count": 9,
   "metadata": {},
   "outputs": [],
   "source": [
    "#prakar\n",
    "def search_by_sector(sector_name):\n",
    "    \"\"\"\n",
    "    returns list of a parent companies in that sub sector, ranked by subsidiaries\n",
    "    \"\"\"\n",
    "    return []"
   ]
  },
  {
   "cell_type": "markdown",
   "metadata": {},
   "source": [
    "## C. Search by Company\n",
    "\n",
    "### Workflow\n",
    "1. Users search by Company Name\n",
    "1b. Users select Sector (dropdown)\n",
    "1c. Users select Industry (dropdown)\n",
    "\n",
    "2. Company Results displayed\n",
    "3. Users select company to view report (dropdown) (Go to -> __D. Company Report Page__)\n",
    "3b. Users go back (Go to -> __A. Start Page__)\n",
    "\n",
    "### Features\n",
    "- Dropdown Widgets: Sector selection\n",
    "- Weighted Zone Search\n",
    "    - Number of Children\n",
    "    - Company Type\n",
    "    - Sector Type\n",
    "- Dropdown Widgets: Company selection"
   ]
  },
  {
   "cell_type": "code",
   "execution_count": 10,
   "metadata": {},
   "outputs": [],
   "source": [
    "def CCompany():\n",
    "    company_suggestions()\n",
    "    "
   ]
  },
  {
   "cell_type": "code",
   "execution_count": 13,
   "metadata": {},
   "outputs": [
    {
     "name": "stdout",
     "output_type": "stream",
     "text": [
      "Please input a company you would like to search for\n",
      "Tips for searching:\n",
      "-You can enter a partial number\n"
     ]
    },
    {
     "ename": "KeyboardInterrupt",
     "evalue": "",
     "output_type": "error",
     "traceback": [
      "\u001b[0;31m---------------------------------------------------------------------------\u001b[0m",
      "\u001b[0;31mKeyboardInterrupt\u001b[0m                         Traceback (most recent call last)",
      "\u001b[0;32m~/Mims/mims/lib/python3.7/site-packages/ipykernel/kernelbase.py\u001b[0m in \u001b[0;36m_input_request\u001b[0;34m(self, prompt, ident, parent, password)\u001b[0m\n\u001b[1;32m    884\u001b[0m             \u001b[0;32mtry\u001b[0m\u001b[0;34m:\u001b[0m\u001b[0;34m\u001b[0m\u001b[0;34m\u001b[0m\u001b[0m\n\u001b[0;32m--> 885\u001b[0;31m                 \u001b[0mident\u001b[0m\u001b[0;34m,\u001b[0m \u001b[0mreply\u001b[0m \u001b[0;34m=\u001b[0m \u001b[0mself\u001b[0m\u001b[0;34m.\u001b[0m\u001b[0msession\u001b[0m\u001b[0;34m.\u001b[0m\u001b[0mrecv\u001b[0m\u001b[0;34m(\u001b[0m\u001b[0mself\u001b[0m\u001b[0;34m.\u001b[0m\u001b[0mstdin_socket\u001b[0m\u001b[0;34m,\u001b[0m \u001b[0;36m0\u001b[0m\u001b[0;34m)\u001b[0m\u001b[0;34m\u001b[0m\u001b[0;34m\u001b[0m\u001b[0m\n\u001b[0m\u001b[1;32m    886\u001b[0m             \u001b[0;32mexcept\u001b[0m \u001b[0mException\u001b[0m\u001b[0;34m:\u001b[0m\u001b[0;34m\u001b[0m\u001b[0;34m\u001b[0m\u001b[0m\n",
      "\u001b[0;32m~/Mims/mims/lib/python3.7/site-packages/jupyter_client/session.py\u001b[0m in \u001b[0;36mrecv\u001b[0;34m(self, socket, mode, content, copy)\u001b[0m\n\u001b[1;32m    802\u001b[0m         \u001b[0;32mtry\u001b[0m\u001b[0;34m:\u001b[0m\u001b[0;34m\u001b[0m\u001b[0;34m\u001b[0m\u001b[0m\n\u001b[0;32m--> 803\u001b[0;31m             \u001b[0mmsg_list\u001b[0m \u001b[0;34m=\u001b[0m \u001b[0msocket\u001b[0m\u001b[0;34m.\u001b[0m\u001b[0mrecv_multipart\u001b[0m\u001b[0;34m(\u001b[0m\u001b[0mmode\u001b[0m\u001b[0;34m,\u001b[0m \u001b[0mcopy\u001b[0m\u001b[0;34m=\u001b[0m\u001b[0mcopy\u001b[0m\u001b[0;34m)\u001b[0m\u001b[0;34m\u001b[0m\u001b[0;34m\u001b[0m\u001b[0m\n\u001b[0m\u001b[1;32m    804\u001b[0m         \u001b[0;32mexcept\u001b[0m \u001b[0mzmq\u001b[0m\u001b[0;34m.\u001b[0m\u001b[0mZMQError\u001b[0m \u001b[0;32mas\u001b[0m \u001b[0me\u001b[0m\u001b[0;34m:\u001b[0m\u001b[0;34m\u001b[0m\u001b[0;34m\u001b[0m\u001b[0m\n",
      "\u001b[0;32m~/Mims/mims/lib/python3.7/site-packages/zmq/sugar/socket.py\u001b[0m in \u001b[0;36mrecv_multipart\u001b[0;34m(self, flags, copy, track)\u001b[0m\n\u001b[1;32m    474\u001b[0m         \"\"\"\n\u001b[0;32m--> 475\u001b[0;31m         \u001b[0mparts\u001b[0m \u001b[0;34m=\u001b[0m \u001b[0;34m[\u001b[0m\u001b[0mself\u001b[0m\u001b[0;34m.\u001b[0m\u001b[0mrecv\u001b[0m\u001b[0;34m(\u001b[0m\u001b[0mflags\u001b[0m\u001b[0;34m,\u001b[0m \u001b[0mcopy\u001b[0m\u001b[0;34m=\u001b[0m\u001b[0mcopy\u001b[0m\u001b[0;34m,\u001b[0m \u001b[0mtrack\u001b[0m\u001b[0;34m=\u001b[0m\u001b[0mtrack\u001b[0m\u001b[0;34m)\u001b[0m\u001b[0;34m]\u001b[0m\u001b[0;34m\u001b[0m\u001b[0;34m\u001b[0m\u001b[0m\n\u001b[0m\u001b[1;32m    476\u001b[0m         \u001b[0;31m# have first part already, only loop while more to receive\u001b[0m\u001b[0;34m\u001b[0m\u001b[0;34m\u001b[0m\u001b[0;34m\u001b[0m\u001b[0m\n",
      "\u001b[0;32mzmq/backend/cython/socket.pyx\u001b[0m in \u001b[0;36mzmq.backend.cython.socket.Socket.recv\u001b[0;34m()\u001b[0m\n",
      "\u001b[0;32mzmq/backend/cython/socket.pyx\u001b[0m in \u001b[0;36mzmq.backend.cython.socket.Socket.recv\u001b[0;34m()\u001b[0m\n",
      "\u001b[0;32mzmq/backend/cython/socket.pyx\u001b[0m in \u001b[0;36mzmq.backend.cython.socket._recv_copy\u001b[0;34m()\u001b[0m\n",
      "\u001b[0;32m~/Mims/mims/lib/python3.7/site-packages/zmq/backend/cython/checkrc.pxd\u001b[0m in \u001b[0;36mzmq.backend.cython.checkrc._check_rc\u001b[0;34m()\u001b[0m\n",
      "\u001b[0;31mKeyboardInterrupt\u001b[0m: ",
      "\nDuring handling of the above exception, another exception occurred:\n",
      "\u001b[0;31mKeyboardInterrupt\u001b[0m                         Traceback (most recent call last)",
      "\u001b[0;32m<ipython-input-13-30ad977f4a01>\u001b[0m in \u001b[0;36m<module>\u001b[0;34m\u001b[0m\n\u001b[1;32m     72\u001b[0m     \u001b[0msys\u001b[0m\u001b[0;34m.\u001b[0m\u001b[0mexit\u001b[0m\u001b[0;34m(\u001b[0m\u001b[0;34m)\u001b[0m\u001b[0;34m\u001b[0m\u001b[0;34m\u001b[0m\u001b[0m\n\u001b[1;32m     73\u001b[0m     \u001b[0;32mreturn\u001b[0m \u001b[0;32mNone\u001b[0m\u001b[0;31m#ranked list of company suggestions\u001b[0m\u001b[0;34m\u001b[0m\u001b[0;34m\u001b[0m\u001b[0m\n\u001b[0;32m---> 74\u001b[0;31m \u001b[0mcompany_suggestions\u001b[0m\u001b[0;34m(\u001b[0m\u001b[0;34m)\u001b[0m\u001b[0;34m\u001b[0m\u001b[0;34m\u001b[0m\u001b[0m\n\u001b[0m",
      "\u001b[0;32m<ipython-input-13-30ad977f4a01>\u001b[0m in \u001b[0;36mcompany_suggestions\u001b[0;34m()\u001b[0m\n\u001b[1;32m     17\u001b[0m     \u001b[0mprint\u001b[0m\u001b[0;34m(\u001b[0m\u001b[0;34m'Tips for searching:'\u001b[0m\u001b[0;34m)\u001b[0m\u001b[0;34m\u001b[0m\u001b[0;34m\u001b[0m\u001b[0m\n\u001b[1;32m     18\u001b[0m     \u001b[0mprint\u001b[0m\u001b[0;34m(\u001b[0m\u001b[0;34m'-You can enter a partial number'\u001b[0m\u001b[0;34m)\u001b[0m\u001b[0;34m\u001b[0m\u001b[0;34m\u001b[0m\u001b[0m\n\u001b[0;32m---> 19\u001b[0;31m     \u001b[0mcompany\u001b[0m \u001b[0;34m=\u001b[0m \u001b[0minput\u001b[0m\u001b[0;34m(\u001b[0m\u001b[0;34m'> '\u001b[0m\u001b[0;34m)\u001b[0m\u001b[0;34m.\u001b[0m\u001b[0mupper\u001b[0m\u001b[0;34m(\u001b[0m\u001b[0;34m)\u001b[0m\u001b[0;34m\u001b[0m\u001b[0;34m\u001b[0m\u001b[0m\n\u001b[0m\u001b[1;32m     20\u001b[0m \u001b[0;34m\u001b[0m\u001b[0m\n\u001b[1;32m     21\u001b[0m     \u001b[0msector\u001b[0m \u001b[0;34m=\u001b[0m \u001b[0minput\u001b[0m\u001b[0;34m(\u001b[0m\u001b[0;34m'What sector are you looking for: '\u001b[0m\u001b[0;34m)\u001b[0m\u001b[0;34m\u001b[0m\u001b[0;34m\u001b[0m\u001b[0m\n",
      "\u001b[0;32m~/Mims/mims/lib/python3.7/site-packages/ipykernel/kernelbase.py\u001b[0m in \u001b[0;36mraw_input\u001b[0;34m(self, prompt)\u001b[0m\n\u001b[1;32m    858\u001b[0m             \u001b[0mself\u001b[0m\u001b[0;34m.\u001b[0m\u001b[0m_parent_ident\u001b[0m\u001b[0;34m,\u001b[0m\u001b[0;34m\u001b[0m\u001b[0;34m\u001b[0m\u001b[0m\n\u001b[1;32m    859\u001b[0m             \u001b[0mself\u001b[0m\u001b[0;34m.\u001b[0m\u001b[0m_parent_header\u001b[0m\u001b[0;34m,\u001b[0m\u001b[0;34m\u001b[0m\u001b[0;34m\u001b[0m\u001b[0m\n\u001b[0;32m--> 860\u001b[0;31m             \u001b[0mpassword\u001b[0m\u001b[0;34m=\u001b[0m\u001b[0;32mFalse\u001b[0m\u001b[0;34m,\u001b[0m\u001b[0;34m\u001b[0m\u001b[0;34m\u001b[0m\u001b[0m\n\u001b[0m\u001b[1;32m    861\u001b[0m         )\n\u001b[1;32m    862\u001b[0m \u001b[0;34m\u001b[0m\u001b[0m\n",
      "\u001b[0;32m~/Mims/mims/lib/python3.7/site-packages/ipykernel/kernelbase.py\u001b[0m in \u001b[0;36m_input_request\u001b[0;34m(self, prompt, ident, parent, password)\u001b[0m\n\u001b[1;32m    888\u001b[0m             \u001b[0;32mexcept\u001b[0m \u001b[0mKeyboardInterrupt\u001b[0m\u001b[0;34m:\u001b[0m\u001b[0;34m\u001b[0m\u001b[0;34m\u001b[0m\u001b[0m\n\u001b[1;32m    889\u001b[0m                 \u001b[0;31m# re-raise KeyboardInterrupt, to truncate traceback\u001b[0m\u001b[0;34m\u001b[0m\u001b[0;34m\u001b[0m\u001b[0;34m\u001b[0m\u001b[0m\n\u001b[0;32m--> 890\u001b[0;31m                 \u001b[0;32mraise\u001b[0m \u001b[0mKeyboardInterrupt\u001b[0m\u001b[0;34m\u001b[0m\u001b[0;34m\u001b[0m\u001b[0m\n\u001b[0m\u001b[1;32m    891\u001b[0m             \u001b[0;32melse\u001b[0m\u001b[0;34m:\u001b[0m\u001b[0;34m\u001b[0m\u001b[0;34m\u001b[0m\u001b[0m\n\u001b[1;32m    892\u001b[0m                 \u001b[0;32mbreak\u001b[0m\u001b[0;34m\u001b[0m\u001b[0;34m\u001b[0m\u001b[0m\n",
      "\u001b[0;31mKeyboardInterrupt\u001b[0m: "
     ]
    }
   ],
   "source": [
    "# Max is going to write this to start with\n",
    "#company_joined2['weighted_result'] = 'default'\n",
    "import re\n",
    "import sys\n",
    "from IPython.display import display, HTML\n",
    "def company_suggestions():\n",
    "    '''\n",
    "    if name isn't clean, then search name+wildcard to return list of companies, ranked by number of children.\n",
    "    can remove\n",
    "    '''\n",
    "    \n",
    "    '''\n",
    "    first test if name entered finds something in the database\n",
    "    '''\n",
    "    \n",
    "    print('Please input a company you would like to search for')\n",
    "    print('Tips for searching:')\n",
    "    print('-You can enter a partial number')\n",
    "    company = input('> ').upper()\n",
    "    \n",
    "    sector = input('What sector are you looking for: ')\n",
    "    #company_joined2.columns\n",
    "    df = pd.DataFrame(company_joined2, columns = ['cw_id', 'company_name', 'num_children', 'sector_name', 'weighted_result', 'company_type'])\n",
    "#     df.head()\n",
    "    #display_company_report(company) #navigates to company report if selected\n",
    "    df = df[ df['company_name'].str.match(company) ]\n",
    "    if df.size == 0:\n",
    "        print(\"I'm sorry, I wasn't able to find a company with those attributes. Would you like to do next:\")\n",
    "        print(\"1) Search for another company?\")\n",
    "        print(\"2) Go Back\")\n",
    "        company = input('> ').upper()\n",
    "\n",
    "    df['weighted_result'] = df[['num_children','sector_name','company_type']].apply(lambda x: weighted_result(x,sector), axis=1)\n",
    "    df = df.sort_values(by=['weighted_result'], ascending = False)\n",
    "    display(df)\n",
    "    x = 0\n",
    "    while x < 3:\n",
    "        choice = None\n",
    "        if df.size == 0:\n",
    "            print(\"I'm sorry, I wasn't able to find a company with those attributes. Would you like to do next:\")\n",
    "            print(\"1) Search for another company?\")\n",
    "            print(\"2) Go Back\")\n",
    "            choice = int(input(\"> \"))\n",
    "        elif df.size != 1:\n",
    "            print('which company would you like to select (cw_id):')   \n",
    "            cw = int(input('>'))\n",
    "            company = df.loc[df['cw_id'] == cw, ['company_name', 'child_cw_id_list'] ]\n",
    "        else:\n",
    "            company = df.iloc[0]\n",
    "            print(company)\n",
    "\n",
    "        if choice != None:\n",
    "            print('What would you like to do now:')\n",
    "            print('1) Search for another Company')\n",
    "            print('2) Go Back')\n",
    "            print('3) Get Company Report')\n",
    "            choice = int(input(\"> \"))\n",
    "        else:\n",
    "            if choice == 1:\n",
    "                company_suggestions()\n",
    "            elif choice == 2:\n",
    "                test = ''\n",
    "                #go back to previous page\n",
    "            elif choice == 3:\n",
    "                display_breakdown(company, cw)\n",
    "            else:\n",
    "                print('Sorry I didnt get that, please select another choice')\n",
    "        x+=1\n",
    "    print('Sorry you have failed too many times. Please try again')\n",
    "    sys.exit()\n",
    "    \n",
    "    return None#ranked list of company suggestions\n",
    "#company_suggestions()"
   ]
  },
  {
   "cell_type": "markdown",
   "metadata": {},
   "source": [
    "## D. Company Report Page\n",
    "\n",
    "### Workflow\n",
    "\n",
    "1. User is shown page\n",
    "2. User select another company to view report (dropdown) (Go to -> __D. Company Report Page__)\n",
    "2b. Users go back (Go to -> __A. Start Page__)\n",
    "\n",
    "\n",
    "### Features\n",
    "\n",
    "#### Parent Company\n",
    "- Relationship Map\n",
    "- Company Breakdown (% of Company Industries)\n",
    "    - Groupby: Top Parent ID\n",
    "    - Groupby: Sector\n",
    "    - Top Players Ranking\n",
    "        - Top Players Results\n",
    "- Foreign/Domestic (% of Domestic vs. International Companies)\n",
    "    - Groupby: Location\n",
    "    - Groupby: State\n",
    "- Dropdown Widgets: Company selection\n",
    "\n",
    "\n",
    "#### Subsidiary\n",
    "- Similar Companies\n",
    "    - Groupby: Top Parent ID\n",
    "    - Groupby: Sector\n",
    "- Dropdown Widgets: Company selection"
   ]
  },
  {
   "cell_type": "code",
   "execution_count": 14,
   "metadata": {},
   "outputs": [],
   "source": [
    "#rachel with start\n",
    "def display_company_report(clean_company_name):\n",
    "    \"\"\"\n",
    "    given a clean company name, show a display report of the company \n",
    "    \n",
    "    SIC \n",
    "    LOC\n",
    "    F/D % percent of companies that are abroad vs. domestic\n",
    "    \n",
    "    \n",
    "    Requirements: Corpwatch Company data, company relationship data\n",
    "\n",
    "    \"\"\"\n",
    "    display_breakdown(clean_company_name)\n",
    "    display_hierarchy(clean_company_name)\n",
    "    \n",
    "    company = input('')\n",
    "    display_company_report(company)\n",
    "    #display something\n",
    "    #return the report"
   ]
  },
  {
   "cell_type": "code",
   "execution_count": 15,
   "metadata": {},
   "outputs": [],
   "source": [
    "def display_breakdown(clean_company_name):\n",
    "    '''\n",
    "    uses logic to determine if it should display (e.g. is it a parent)\n",
    "    \n",
    "    if so, shows Pie chart of sector breakdown\n",
    "    \n",
    "    shows list of sectors they are in\n",
    "    '''\n",
    "    return []"
   ]
  },
  {
   "cell_type": "code",
   "execution_count": 16,
   "metadata": {},
   "outputs": [],
   "source": [
    "def display_hierarchy(clean_company_name):\n",
    "    '''\n",
    "    uses logic to determine if it should display (e.g. does it have at least a parent or a child)\n",
    "    \n",
    "    if so, show table of parent (if applicable)\n",
    "    show table of children (if applicable)\n",
    "    '''\n",
    "    return []"
   ]
  },
  {
   "cell_type": "code",
   "execution_count": 17,
   "metadata": {},
   "outputs": [
    {
     "ename": "SyntaxError",
     "evalue": "invalid syntax (<ipython-input-17-678471962d70>, line 4)",
     "output_type": "error",
     "traceback": [
      "\u001b[0;36m  File \u001b[0;32m\"<ipython-input-17-678471962d70>\"\u001b[0;36m, line \u001b[0;32m4\u001b[0m\n\u001b[0;31m    sector_company_list = search_by_sector(sector_name): #returns all companies in sector\u001b[0m\n\u001b[0m                                                       ^\u001b[0m\n\u001b[0;31mSyntaxError\u001b[0m\u001b[0;31m:\u001b[0m invalid syntax\n"
     ]
    }
   ],
   "source": [
    "if result == 'sector':\n",
    "    #show sector group\n",
    "    \n",
    "    sector_company_list = search_by_sector(sector_name): #returns all companies in sector\n",
    "    company = display_dropdown(sector_company_list) #displays companies with subsidiaries \n",
    "    display_company_report(company) #navigates to company report if selected\n",
    "    #show sector name\n",
    "    #show industry name\n",
    "    "
   ]
  },
  {
   "cell_type": "code",
   "execution_count": null,
   "metadata": {},
   "outputs": [],
   "source": []
  }
 ],
 "metadata": {
  "kernelspec": {
   "display_name": "Python 3",
   "language": "python",
   "name": "python3"
  },
  "language_info": {
   "codemirror_mode": {
    "name": "ipython",
    "version": 3
   },
   "file_extension": ".py",
   "mimetype": "text/x-python",
   "name": "python",
   "nbconvert_exporter": "python",
   "pygments_lexer": "ipython3",
   "version": "3.7.4"
  }
 },
 "nbformat": 4,
 "nbformat_minor": 4
}
