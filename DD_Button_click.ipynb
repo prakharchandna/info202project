{
 "cells": [
  {
   "cell_type": "markdown",
   "metadata": {},
   "source": [
    "# Display Dropdown and Button"
   ]
  },
  {
   "cell_type": "code",
   "execution_count": 37,
   "metadata": {},
   "outputs": [],
   "source": [
    "import pandas as pd\n",
    "import ipywidgets as widgets\n",
    "import functools\n",
    "from IPython.display import display"
   ]
  },
  {
   "cell_type": "code",
   "execution_count": 38,
   "metadata": {},
   "outputs": [],
   "source": [
    "#create the sec codes dataset\n",
    "sic_codes = pd.read_csv('corpwatch_api_tables_csv/sic_codes.csv', sep = \"\\t\", escapechar='\\\\')\n",
    "sic_sectors = pd.read_csv('corpwatch_api_tables_csv/sic_sectors.csv', sep = \"\\t\", escapechar='\\\\')"
   ]
  },
  {
   "cell_type": "code",
   "execution_count": 39,
   "metadata": {},
   "outputs": [],
   "source": [
    "sic_sectors_codes = pd.merge(sic_codes,\n",
    "                     sic_sectors,\n",
    "                     on='sic_sector', \n",
    "                     how='left')"
   ]
  },
  {
   "cell_type": "code",
   "execution_count": 40,
   "metadata": {},
   "outputs": [],
   "source": [
    "sic_sectors_codes.to_csv(\"sector_output.csv\")"
   ]
  },
  {
   "cell_type": "code",
   "execution_count": 41,
   "metadata": {},
   "outputs": [],
   "source": [
    "def display_drop_down(df_column):\n",
    "    \"\"\"\n",
    "    Passes in a Dataframe column to set the dropdown bar. Use in tandem with button code\n",
    "    to create clickable button to direct users to different functions\n",
    "    \"\"\"\n",
    "    dd = widgets.Dropdown(options= \n",
    "          df_column.unique(),\n",
    "    value=df_column.iloc[0],\n",
    "    description='Type:',\n",
    "    disabled=False,\n",
    "    )\n",
    "\n",
    "    return dd\n",
    "\n",
    "dd = display_drop_down(sic_sectors_codes['sector_group_name']) #set this to the column you like to define the code \n"
   ]
  },
  {
   "cell_type": "code",
   "execution_count": 42,
   "metadata": {},
   "outputs": [
    {
     "data": {
      "application/vnd.jupyter.widget-view+json": {
       "model_id": "acb2586e2681498eab72a03ae51e6799",
       "version_major": 2,
       "version_minor": 0
      },
      "text/plain": [
       "Dropdown(description='Type:', options=(' Agriculture, forestry, and fishing', 'Mining', 'Construction', 'Manuf…"
      ]
     },
     "metadata": {},
     "output_type": "display_data"
    },
    {
     "data": {
      "application/vnd.jupyter.widget-view+json": {
       "model_id": "5627bdaa96d24ba4b10ec77ae93760a0",
       "version_major": 2,
       "version_minor": 0
      },
      "text/plain": [
       "Button(description='Go', style=ButtonStyle())"
      ]
     },
     "metadata": {},
     "output_type": "display_data"
    },
    {
     "data": {
      "application/vnd.jupyter.widget-view+json": {
       "model_id": "285179b0e4674f98b8ef2f5b8db909b9",
       "version_major": 2,
       "version_minor": 0
      },
      "text/plain": [
       "Output()"
      ]
     },
     "metadata": {},
     "output_type": "display_data"
    }
   ],
   "source": [
    "#Code required to display button first time \n",
    "widgets.Button.on_click.__doc__\n",
    "\n",
    "#Code required to display button \n",
    "button = widgets.Button(description=\"Go\")\n",
    "output = widgets.Output()\n",
    "\n",
    "#displays dropdown and button\n",
    "display(dd, button, output)\n",
    "\n",
    "#code to define what happens when button is clicked. Might need to tweak later to accept different functions\n",
    "def on_button_clicked(b, func = ''):\n",
    "    test_print = dd.value\n",
    "    with output:\n",
    "        print(test_print) #testing printed result to show that it changes\n",
    "        #func(test_print) #Commented out for now, but use in the future to pass in function call so we can \n",
    "        #decide what we want to do with our dropdown choice\n",
    "\n",
    "def test():\n",
    "    print('a')\n",
    "\n",
    "button.on_click(functools.partial(on_button_clicked, func = test))"
   ]
  },
  {
   "cell_type": "markdown",
   "metadata": {},
   "source": [
    "# This code can be used to halt the python code until we fulfill a condition"
   ]
  },
  {
   "cell_type": "code",
   "execution_count": 43,
   "metadata": {
    "scrolled": true
   },
   "outputs": [
    {
     "data": {
      "application/vnd.jupyter.widget-view+json": {
       "model_id": "b442112d6c94461ba98bc7e95172723a",
       "version_major": 2,
       "version_minor": 0
      },
      "text/plain": [
       "IntSlider(value=0)"
      ]
     },
     "metadata": {},
     "output_type": "display_data"
    }
   ],
   "source": [
    "\n",
    "%gui asyncio\n",
    "\n",
    "import asyncio\n",
    "def wait_for_change(widget, value):\n",
    "    future = asyncio.Future()\n",
    "    def getvalue(change):\n",
    "        # make the new value available\n",
    "        future.set_result(change.new)\n",
    "        widget.unobserve(getvalue, value)\n",
    "    widget.observe(getvalue, value)\n",
    "    return future\n",
    "\n",
    "from ipywidgets import IntSlider\n",
    "slider = IntSlider()\n",
    "\n",
    "async def f():\n",
    "    for i in range(10):\n",
    "        print('did work %s'%i)\n",
    "        x = await wait_for_change(slider, 'value')\n",
    "        print('async function continued with value %s'%x)\n",
    "asyncio.ensure_future(f())\n",
    "\n",
    "slider"
   ]
  },
  {
   "cell_type": "markdown",
   "metadata": {},
   "source": [
    "# The next step is to have it work inside the display_drop_down function so we can pause our next action until we select our company"
   ]
  },
  {
   "cell_type": "code",
   "execution_count": 44,
   "metadata": {},
   "outputs": [
    {
     "name": "stdout",
     "output_type": "stream",
     "text": [
      "did work 0\n"
     ]
    },
    {
     "data": {
      "application/vnd.jupyter.widget-view+json": {
       "model_id": "b442112d6c94461ba98bc7e95172723a",
       "version_major": 2,
       "version_minor": 0
      },
      "text/plain": [
       "IntSlider(value=0)"
      ]
     },
     "metadata": {},
     "output_type": "display_data"
    },
    {
     "name": "stdout",
     "output_type": "stream",
     "text": [
      "did work 0\n"
     ]
    }
   ],
   "source": [
    "def test():\n",
    "    print('a')\n",
    "\n",
    "def display_drop_down(df_column, function_call):\n",
    "    \"\"\"\n",
    "    Passes in a Dataframe column to set the dropdown bar. Use in tandem with button code\n",
    "    to create clickable button to direct users to different functions\n",
    "    \"\"\"\n",
    "    dd = widgets.Dropdown(options= \n",
    "          df_column.unique(),\n",
    "    value=df_column.iloc[0],\n",
    "    description='Type:',\n",
    "    disabled=False,\n",
    "    )\n",
    "\n",
    "    '''Element with asynchronous feature'''\n",
    "    asyncio.ensure_future(f())\n",
    "\n",
    "    display(slider)\n",
    "    #print('done')\n",
    "    \n",
    "    return \n",
    "\n",
    "dd = display_drop_down(sic_sectors_codes['sector_group_name'], test) #set this to the column you like to define the code \n"
   ]
  },
  {
   "cell_type": "markdown",
   "metadata": {},
   "source": [
    "# I haven't been able to figure it out, but we need to change the asychronous function inside the display_drop_down so it is dependent on a button click instead ( so we can call another function through it)\n",
    "\n",
    "## See following documentation:\n",
    "### Asynchronous IPYNB Widgets: https://ipywidgets.readthedocs.io/en/latest/examples/Widget%20Asynchronous.html\n",
    "### Future/Asynch/Await: https://docs.python.org/3/library/asyncio-future.html#asyncio.Future\n",
    "### IPYNB Widget Events: https://ipywidgets.readthedocs.io/en/latest/examples/Widget%20Events.html"
   ]
  },
  {
   "cell_type": "code",
   "execution_count": null,
   "metadata": {},
   "outputs": [],
   "source": []
  }
 ],
 "metadata": {
  "kernelspec": {
   "display_name": "Python 3",
   "language": "python",
   "name": "python3"
  },
  "language_info": {
   "codemirror_mode": {
    "name": "ipython",
    "version": 3
   },
   "file_extension": ".py",
   "mimetype": "text/x-python",
   "name": "python",
   "nbconvert_exporter": "python",
   "pygments_lexer": "ipython3",
   "version": "3.7.4"
  }
 },
 "nbformat": 4,
 "nbformat_minor": 2
}
