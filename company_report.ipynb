{
 "cells": [
  {
   "cell_type": "code",
   "execution_count": 1,
   "metadata": {},
   "outputs": [],
   "source": [
    "#company hierarchy"
   ]
  },
  {
   "cell_type": "code",
   "execution_count": 2,
   "metadata": {},
   "outputs": [],
   "source": [
    "import pandas as pd\n",
    "\n",
    "import plotly.graph_objects as go\n",
    "\n",
    "import networkx as nx\n",
    "import ast"
   ]
  },
  {
   "cell_type": "code",
   "execution_count": 3,
   "metadata": {},
   "outputs": [
    {
     "name": "stderr",
     "output_type": "stream",
     "text": [
      "/usr/local/lib/python3.7/site-packages/IPython/core/interactiveshell.py:3058: DtypeWarning:\n",
      "\n",
      "Columns (9,11) have mixed types. Specify dtype option on import or set low_memory=False.\n",
      "\n"
     ]
    }
   ],
   "source": [
    "data = pd.read_csv(\"company_master_table.csv\", \n",
    "                   dtype={\"child_cw_id_list\" :'str',\n",
    "                          \"parent_cw_id_list\": 'str'}, converters={1:ast.literal_eval})"
   ]
  },
  {
   "cell_type": "code",
   "execution_count": null,
   "metadata": {},
   "outputs": [],
   "source": [
    "CW_ID = 'cw_id'\n",
    "INDUSTRY_NAME = 'industry_name'\n",
    "SECTOR_NAME = 'sector_name'\n",
    "NUM_PARENTS = 'num_parents'\n",
    "NUM_CHILDREN = 'num_children'\n",
    "TOP_PARENT_ID = 'top_parent_id'\n",
    "COMPANY_NAME = 'company_name'\n",
    "CHILD_CW_ID_LIST = 'child_cw_id_list'\n",
    "PARENT_CW_ID_LIST = 'parent_cw_id_list'\n"
   ]
  },
  {
   "cell_type": "code",
   "execution_count": 5,
   "metadata": {},
   "outputs": [],
   "source": [
    "def list_parse(s):\n",
    "    strings = str(s).strip(\"[]\").split(\",\")\n",
    "    ls = []\n",
    "    for i in strings:\n",
    "        try:\n",
    "            ls.append(int(float(i.strip())))\n",
    "        except (ValueError):\n",
    "            \"\"\n",
    "    return ls"
   ]
  },
  {
   "cell_type": "code",
   "execution_count": 6,
   "metadata": {},
   "outputs": [
    {
     "data": {
      "text/plain": [
       "[6, 7]"
      ]
     },
     "execution_count": 6,
     "metadata": {},
     "output_type": "execute_result"
    }
   ],
   "source": [
    "list_parse(\"[  6.0   ,nan   ,     7.0]\")"
   ]
  },
  {
   "cell_type": "code",
   "execution_count": 7,
   "metadata": {},
   "outputs": [],
   "source": [
    "data[CHILD_CW_ID_LIST] = data[CHILD_CW_ID_LIST].apply(lambda x: list_parse(x))\n",
    "data[PARENT_CW_ID_LIST] = data[PARENT_CW_ID_LIST].apply(lambda x: list_parse(x))"
   ]
  },
  {
   "cell_type": "code",
   "execution_count": 8,
   "metadata": {},
   "outputs": [
    {
     "data": {
      "text/plain": [
       "1038175"
      ]
     },
     "execution_count": 8,
     "metadata": {},
     "output_type": "execute_result"
    }
   ],
   "source": [
    "x = data[CHILD_CW_ID_LIST]\n",
    "x[1][0]"
   ]
  },
  {
   "cell_type": "code",
   "execution_count": 9,
   "metadata": {},
   "outputs": [],
   "source": [
    "families = data[((data[NUM_PARENTS]> 0) | (data[NUM_CHILDREN] > 0))]  #i might not want to do this"
   ]
  },
  {
   "cell_type": "code",
   "execution_count": 10,
   "metadata": {},
   "outputs": [
    {
     "data": {
      "text/plain": [
       "(573820, 23)"
      ]
     },
     "execution_count": 10,
     "metadata": {},
     "output_type": "execute_result"
    }
   ],
   "source": [
    "families.shape"
   ]
  },
  {
   "cell_type": "code",
   "execution_count": 11,
   "metadata": {},
   "outputs": [],
   "source": [
    "family_groups = families.groupby(families[TOP_PARENT_ID])"
   ]
  },
  {
   "cell_type": "code",
   "execution_count": 12,
   "metadata": {},
   "outputs": [],
   "source": [
    "def unique_non_nan(elem):\n",
    "    return [a for a in list(pd.unique(elem)) if pd.notna(a)]\n",
    "\n",
    "def print_list_columns(df, column_name):\n",
    "    d = df[column_name].to_dict()\n",
    "    for k in d:\n",
    "        print(str(k) + \":\")\n",
    "        values = d[k]\n",
    "        for v in values: \n",
    "            print(\"\\t \\t \\t\" + v)\n"
   ]
  },
  {
   "cell_type": "code",
   "execution_count": 13,
   "metadata": {},
   "outputs": [],
   "source": [
    "def create_co_report(group_df, company_id, name_string):\n",
    "    \n",
    "    agg_dictionary = {\"row_id\" : \"count\",\n",
    "                  CW_ID: unique_non_nan,\n",
    "                  COMPANY_NAME: unique_non_nan,\n",
    "                 }\n",
    "    COMPANY_COUNT = \"company_count\"\n",
    "    industry_df = group_df.groupby(by = \"industry_name\").agg(agg_dictionary)\n",
    "    industry_df.rename(columns = {\"row_id\": COMPANY_COUNT}, inplace = True)\n",
    "    top_industries_df = industry_df.sort_values(by = COMPANY_NAME, ascending=False)\n",
    "    top_industries = [k for k in top_industries_df[COMPANY_COUNT].to_dict().keys()]\n",
    "    \n",
    "    sectors = group_df.groupby(SECTOR_NAME).count() \n",
    "    sectors.rename(columns = {\"row_id\": COMPANY_COUNT}, inplace = True)\n",
    "    \n",
    "    #summary:     \n",
    "    print(\"Company \"  + str(name_string) + \" has \" + str(group_df.shape[0]) + \" subsidiaries\")\n",
    "   \n",
    "    #change to take the top 3 or so industries if they exist \n",
    "    print(\"Top industries \" + str(top_industries))\n",
    "    \n",
    "    # needs to be renamed to the count\n",
    "    \n",
    "    industry_df.plot.pie(y = COMPANY_COUNT, legend = False, title = \"Subsidiaries By Industry\") \n",
    "    plt.show()\n",
    "    #maybe print top sectors???? \n",
    "    sectors.plot.pie(y = COMPANY_COUNT, legend = False, title = \"Subsidiaries by Sector\")\n",
    "    plt.show()\n",
    "    print(\"==================== SUBSIDIARIES BY INDUSTRY ============================= \")\n",
    "    \n",
    "    print_list_columns(industry_df, COMPANY_NAME)"
   ]
  },
  {
   "cell_type": "code",
   "execution_count": null,
   "metadata": {},
   "outputs": [],
   "source": []
  },
  {
   "cell_type": "code",
   "execution_count": 14,
   "metadata": {},
   "outputs": [],
   "source": [
    "family_graph = {}\n",
    "\n",
    "from collections import defaultdict\n",
    "#Loop through the top parent ids\n",
    "#relationships are parent ---> child \n",
    "from collections.abc import Iterable   # import directly from collections for Python < 3.3\n",
    "failed_rows = 0\n",
    "for name, group in family_groups:\n",
    "    G = nx.DiGraph()\n",
    "    for index, row in group.iterrows():\n",
    "        cw_id = int(row[CW_ID])\n",
    "        children = row[CHILD_CW_ID_LIST]\n",
    "        parents = row[PARENT_CW_ID_LIST]\n",
    "        try:\n",
    "            for c in children:\n",
    "                if(c != cw_id):\n",
    "                    G.add_edge(cw_id, c)\n",
    "            for p in parents:\n",
    "                if p != cw_id:\n",
    "                    G.add_edge(p, cw_id)\n",
    "        except (ValueError):\n",
    "            print(\"?\")\n",
    "        family_graph[name] = G\n"
   ]
  },
  {
   "cell_type": "code",
   "execution_count": 15,
   "metadata": {},
   "outputs": [],
   "source": [
    "#H.add_nodes_from([1,3,4,5])\n",
    "import math\n",
    "J = nx.DiGraph()\n",
    "J.add_edges_from([(1,2.0), (3, 2) , (3,4), (int(8.0), 9)])"
   ]
  },
  {
   "cell_type": "code",
   "execution_count": 16,
   "metadata": {},
   "outputs": [
    {
     "data": {
      "image/png": "[encoded data removed]",
      "text/plain": [
       "<Figure size 432x288 with 1 Axes>"
      ]
     },
     "metadata": {},
     "output_type": "display_data"
    }
   ],
   "source": [
    "%matplotlib inline  \n",
    "#from networkx.drawing.nx_agraph import write_dot, graphviz_layout\n",
    "import matplotlib.pyplot as plt\n",
    "def plot_graph(G):\n",
    "    nx.draw_shell(G, with_labels=True)\n",
    "    plt.show()\n",
    "g = family_graph[130]\n",
    "\n",
    "plot_graph(J)"
   ]
  },
  {
   "cell_type": "code",
   "execution_count": 17,
   "metadata": {},
   "outputs": [
    {
     "data": {
      "text/plain": [
       "OutEdgeView([(1280, 1048675), (1280, 1011579), (1280, 1196), (1280, 1180), (907597, 1280), (118277, 118278), (841127, 118282), (841127, 118283), (841127, 1001726), (118283, 1113459), (590084, 130), (42654, 590084), (42654, 914312), (42654, 1004428), (42654, 1048674), (743580, 644548), (743580, 702436), (743580, 702625), (743580, 788091), (743579, 702874), (788091, 788220), (1001713, 590086), (788089, 1001713), (971904, 1001727)])"
      ]
     },
     "execution_count": 17,
     "metadata": {},
     "output_type": "execute_result"
    }
   ],
   "source": [
    "family_graph[130].edges"
   ]
  },
  {
   "cell_type": "code",
   "execution_count": 18,
   "metadata": {},
   "outputs": [
    {
     "data": {
      "text/plain": [
       "OutEdgeView([])"
      ]
     },
     "execution_count": 18,
     "metadata": {},
     "output_type": "execute_result"
    }
   ],
   "source": [
    "g.subgraph([75, 120]).edges"
   ]
  },
  {
   "cell_type": "code",
   "execution_count": 19,
   "metadata": {},
   "outputs": [],
   "source": [
    "indexed_groups = families.set_index(CW_ID) ## should not use the filtered list \n",
    "    "
   ]
  },
  {
   "cell_type": "code",
   "execution_count": 20,
   "metadata": {},
   "outputs": [],
   "source": [
    "indexed_groups.loc[75]\n",
    "\n",
    "def get_name_by_id(index_df, cw_id):\n",
    "    row = index_df.loc[cw_id]\n",
    "    return row[COMPANY_NAME]"
   ]
  },
  {
   "cell_type": "code",
   "execution_count": 21,
   "metadata": {},
   "outputs": [
    {
     "data": {
      "text/plain": [
       "'ALABAMA POWER CO'"
      ]
     },
     "execution_count": 21,
     "metadata": {},
     "output_type": "execute_result"
    }
   ],
   "source": [
    "get_name_by_id(indexed_groups, 37)"
   ]
  },
  {
   "cell_type": "code",
   "execution_count": null,
   "metadata": {},
   "outputs": [],
   "source": []
  },
  {
   "cell_type": "code",
   "execution_count": 22,
   "metadata": {},
   "outputs": [
    {
     "data": {
      "text/html": [
       "<div>\n",
       "<style scoped>\n",
       "    .dataframe tbody tr th:only-of-type {\n",
       "        vertical-align: middle;\n",
       "    }\n",
       "\n",
       "    .dataframe tbody tr th {\n",
       "        vertical-align: top;\n",
       "    }\n",
       "\n",
       "    .dataframe thead th {\n",
       "        text-align: right;\n",
       "    }\n",
       "</style>\n",
       "<table border=\"1\" class=\"dataframe\">\n",
       "  <thead>\n",
       "    <tr style=\"text-align: right;\">\n",
       "      <th></th>\n",
       "      <th>Unnamed: 0</th>\n",
       "      <th>row_id</th>\n",
       "      <th>cw_id</th>\n",
       "      <th>most_recent</th>\n",
       "      <th>year</th>\n",
       "      <th>cik</th>\n",
       "      <th>irs_number</th>\n",
       "      <th>best_location_id</th>\n",
       "      <th>sic_code</th>\n",
       "      <th>industry_name</th>\n",
       "      <th>...</th>\n",
       "      <th>source_type</th>\n",
       "      <th>source_id</th>\n",
       "      <th>num_parents</th>\n",
       "      <th>top_parent_id</th>\n",
       "      <th>company_name</th>\n",
       "      <th>max_year</th>\n",
       "      <th>min_year</th>\n",
       "      <th>no_sic</th>\n",
       "      <th>child_cw_id_list</th>\n",
       "      <th>parent_cw_id_list</th>\n",
       "    </tr>\n",
       "    <tr>\n",
       "      <th>num_children</th>\n",
       "      <th></th>\n",
       "      <th></th>\n",
       "      <th></th>\n",
       "      <th></th>\n",
       "      <th></th>\n",
       "      <th></th>\n",
       "      <th></th>\n",
       "      <th></th>\n",
       "      <th></th>\n",
       "      <th></th>\n",
       "      <th></th>\n",
       "      <th></th>\n",
       "      <th></th>\n",
       "      <th></th>\n",
       "      <th></th>\n",
       "      <th></th>\n",
       "      <th></th>\n",
       "      <th></th>\n",
       "      <th></th>\n",
       "      <th></th>\n",
       "      <th></th>\n",
       "    </tr>\n",
       "  </thead>\n",
       "  <tbody>\n",
       "    <tr>\n",
       "      <td>0</td>\n",
       "      <td>4</td>\n",
       "      <td>4</td>\n",
       "      <td>4</td>\n",
       "      <td>4</td>\n",
       "      <td>4</td>\n",
       "      <td>4</td>\n",
       "      <td>0</td>\n",
       "      <td>4</td>\n",
       "      <td>0</td>\n",
       "      <td>0</td>\n",
       "      <td>...</td>\n",
       "      <td>4</td>\n",
       "      <td>4</td>\n",
       "      <td>4</td>\n",
       "      <td>4</td>\n",
       "      <td>4</td>\n",
       "      <td>4</td>\n",
       "      <td>4</td>\n",
       "      <td>4</td>\n",
       "      <td>4</td>\n",
       "      <td>4</td>\n",
       "    </tr>\n",
       "    <tr>\n",
       "      <td>2</td>\n",
       "      <td>1</td>\n",
       "      <td>1</td>\n",
       "      <td>1</td>\n",
       "      <td>1</td>\n",
       "      <td>1</td>\n",
       "      <td>1</td>\n",
       "      <td>0</td>\n",
       "      <td>1</td>\n",
       "      <td>0</td>\n",
       "      <td>0</td>\n",
       "      <td>...</td>\n",
       "      <td>1</td>\n",
       "      <td>1</td>\n",
       "      <td>1</td>\n",
       "      <td>1</td>\n",
       "      <td>1</td>\n",
       "      <td>1</td>\n",
       "      <td>1</td>\n",
       "      <td>1</td>\n",
       "      <td>1</td>\n",
       "      <td>1</td>\n",
       "    </tr>\n",
       "    <tr>\n",
       "      <td>101</td>\n",
       "      <td>1</td>\n",
       "      <td>1</td>\n",
       "      <td>1</td>\n",
       "      <td>1</td>\n",
       "      <td>1</td>\n",
       "      <td>1</td>\n",
       "      <td>1</td>\n",
       "      <td>1</td>\n",
       "      <td>1</td>\n",
       "      <td>1</td>\n",
       "      <td>...</td>\n",
       "      <td>1</td>\n",
       "      <td>1</td>\n",
       "      <td>1</td>\n",
       "      <td>1</td>\n",
       "      <td>1</td>\n",
       "      <td>1</td>\n",
       "      <td>1</td>\n",
       "      <td>1</td>\n",
       "      <td>1</td>\n",
       "      <td>1</td>\n",
       "    </tr>\n",
       "  </tbody>\n",
       "</table>\n",
       "<p>3 rows × 22 columns</p>\n",
       "</div>"
      ],
      "text/plain": [
       "              Unnamed: 0  row_id  cw_id  most_recent  year  cik  irs_number  \\\n",
       "num_children                                                                  \n",
       "0                      4       4      4            4     4    4           0   \n",
       "2                      1       1      1            1     1    1           0   \n",
       "101                    1       1      1            1     1    1           1   \n",
       "\n",
       "              best_location_id  sic_code  industry_name  ...  source_type  \\\n",
       "num_children                                             ...                \n",
       "0                            4         0              0  ...            4   \n",
       "2                            1         0              0  ...            1   \n",
       "101                          1         1              1  ...            1   \n",
       "\n",
       "              source_id  num_parents  top_parent_id  company_name  max_year  \\\n",
       "num_children                                                                  \n",
       "0                     4            4              4             4         4   \n",
       "2                     1            1              1             1         1   \n",
       "101                   1            1              1             1         1   \n",
       "\n",
       "              min_year  no_sic  child_cw_id_list  parent_cw_id_list  \n",
       "num_children                                                         \n",
       "0                    4       4                 4                  4  \n",
       "2                    1       1                 1                  1  \n",
       "101                  1       1                 1                  1  \n",
       "\n",
       "[3 rows x 22 columns]"
      ]
     },
     "execution_count": 22,
     "metadata": {},
     "output_type": "execute_result"
    }
   ],
   "source": [
    "family_groups.get_group(37).groupby(\"num_children\").count()"
   ]
  },
  {
   "cell_type": "code",
   "execution_count": 27,
   "metadata": {},
   "outputs": [],
   "source": [
    "def generate_company_report(company_id):\n",
    "    co_name = get_name_by_id(indexed_groups, company_id)\n",
    "    row = indexed_groups.loc[company_id]\n",
    "    industry = row[INDUSTRY_NAME]\n",
    "    parents = row[PARENT_CW_ID_LIST]\n",
    "    top_parent = row[TOP_PARENT_ID]\n",
    "    print(\"Company: \" + co_name + \"  company_id: \" + str(company_id))\n",
    "    print(\"=====================\")\n",
    "    print(\"\")\n",
    "    \n",
    "    #size by industry, number of subsidiaries\n",
    "    \n",
    "    if top_parent != cw_id:\n",
    "        top_parent_name = get_name_by_id(indexed_groups, top_parent)\n",
    "        print(\"Is a subsidiary of: \" + str(top_parent_name) + \" ( \" + str(top_parent) + \" )\")\n",
    "        \n",
    "        #Ask the user if they would like to see the top parent report before showing it? \n",
    "        group = family_groups.get_group(top_parent)\n",
    "        create_co_report(group, top_parent, top_parent_name)\n",
    "    else:\n",
    "        print(\"The company has no parents\")\n",
    "\n",
    "    #wish list \n",
    "    #is a multinational\n",
    "    #ranking by industry\n",
    "    #number of child locations\n",
    "    #subsidiaries locations\n"
   ]
  },
  {
   "cell_type": "code",
   "execution_count": 28,
   "metadata": {},
   "outputs": [
    {
     "name": "stdout",
     "output_type": "stream",
     "text": [
      "Company: Parrey LLC  company_id: 980545\n",
      "=====================\n",
      "\n",
      "Is a subsidiary of: GEORGIA POWER CO ( 781 )\n",
      "Company GEORGIA POWER CO has 162 subsidiaries\n",
      "Top industries ['Natural gas distribution', 'Electric services']\n"
     ]
    },
    {
     "data": {
      "image/png": "[encoded data removed]",
      "text/plain": [
       "<Figure size 432x288 with 1 Axes>"
      ]
     },
     "metadata": {},
     "output_type": "display_data"
    },
    {
     "data": {
      "image/png": "[encoded data removed]",
      "text/plain": [
       "<Figure size 432x288 with 1 Axes>"
      ]
     },
     "metadata": {},
     "output_type": "display_data"
    },
    {
     "name": "stdout",
     "output_type": "stream",
     "text": [
      "==================== SUBSIDIARIES BY INDUSTRY ============================= \n",
      "Electric services:\n",
      "\t \t \tGEORGIA POWER CO\n",
      "\t \t \tMISSISSIPPI POWER CO\n",
      "\t \t \tSOUTHERN CO\n",
      "\t \t \tGULF POWER CAPITAL TRUST I\n",
      "\t \t \tGULF POWER CAPITAL TRUST II\n",
      "Natural gas distribution:\n",
      "\t \t \tSOUTHERN Co GAS\n"
     ]
    }
   ],
   "source": [
    "generate_company_report(980545)"
   ]
  },
  {
   "cell_type": "code",
   "execution_count": 29,
   "metadata": {},
   "outputs": [
    {
     "name": "stdout",
     "output_type": "stream",
     "text": [
      "Company: GEORGIA POWER CO  company_id: 781\n",
      "=====================\n",
      "\n",
      "Is a subsidiary of: GEORGIA POWER CO ( 781 )\n",
      "Company GEORGIA POWER CO has 162 subsidiaries\n",
      "Top industries ['Natural gas distribution', 'Electric services']\n"
     ]
    },
    {
     "data": {
      "image/png": "[encoded data removed]",
      "text/plain": [
       "<Figure size 432x288 with 1 Axes>"
      ]
     },
     "metadata": {},
     "output_type": "display_data"
    },
    {
     "data": {
      "image/png": "[encoded data removed]",
      "text/plain": [
       "<Figure size 432x288 with 1 Axes>"
      ]
     },
     "metadata": {},
     "output_type": "display_data"
    },
    {
     "name": "stdout",
     "output_type": "stream",
     "text": [
      "==================== SUBSIDIARIES BY INDUSTRY ============================= \n",
      "Electric services:\n",
      "\t \t \tGEORGIA POWER CO\n",
      "\t \t \tMISSISSIPPI POWER CO\n",
      "\t \t \tSOUTHERN CO\n",
      "\t \t \tGULF POWER CAPITAL TRUST I\n",
      "\t \t \tGULF POWER CAPITAL TRUST II\n",
      "Natural gas distribution:\n",
      "\t \t \tSOUTHERN Co GAS\n"
     ]
    }
   ],
   "source": [
    "generate_company_report(781)"
   ]
  },
  {
   "cell_type": "code",
   "execution_count": null,
   "metadata": {},
   "outputs": [],
   "source": []
  }
 ],
 "metadata": {
  "kernelspec": {
   "display_name": "Python 3",
   "language": "python",
   "name": "python3"
  },
  "language_info": {
   "codemirror_mode": {
    "name": "ipython",
    "version": 3
   },
   "file_extension": ".py",
   "mimetype": "text/x-python",
   "name": "python",
   "nbconvert_exporter": "python",
   "pygments_lexer": "ipython3",
   "version": "3.7.4"
  }
 },
 "nbformat": 4,
 "nbformat_minor": 4
}
